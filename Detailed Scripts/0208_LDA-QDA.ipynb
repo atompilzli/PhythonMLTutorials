{
 "cells": [
  {
   "cell_type": "markdown",
   "metadata": {},
   "source": [
    "# Linear and Quadratic Discriminant Analysis\n",
    "\n",
    "## Linear Discriminant Analysis\n",
    "\n",
    "### Classifying with Bayes' Theorem\n",
    "\n",
    "In the previous chapter we discussed logistic regression for the case of two response classes (e.g. 0 and 1). It models the conditional probability $\\Pr(Y=k|X=x)$ directly through the use of the Sigmoid function. In this chapter we discuss an alternative approach that models the distribution of the predictors $X$ separately for each response class (i.e. given $Y$), and then uses Bayes' theorem to transform these into conditional probabilities for $\\Pr(Y=k|X=x)$. Its main advantage compared to logistic regressions is that if classes are well-separated, parameter estimates for logistic regression tend to be unstable whereas linear discriminant analysis (LDA) does not suffer from this problem. Beyond that, LDA is a popular algorithm for multiple-class classification (i.e. the response has more than two classes, for example buy/hold/sell etc.) where logistic regression is not used that often (James et al. (2013)).\n",
    "\n",
    "LDA assigns an object to class $k$ for which the computed probability is highest. These probabilities are calculated using Bayes' rule which states that\n",
    "\n",
    "\\begin{equation}\n",
    "\\begin{aligned}\n",
    "\\underbrace{\\Pr(Y=k|X)}_{\\text{posterior probability}} &= \\frac{\\overbrace{\\Pr(X|Y=k)}^{\\text{conditional probability}}  \\quad \\overbrace{\\Pr(k)}^{\\text{prior probability}}}{\\underbrace{\\Pr(X)}_{\\text{evidence}}} \\\\[3ex] \n",
    " &= \\frac{\\Pr(X|Y=k) \\Pr(k)}{\\sum_{\\ell=1}^K \\Pr(X|Y=\\ell) \\Pr(\\ell)}\n",
    "\\end{aligned}\n",
    "\\end{equation}\n",
    "\n",
    "Above, $\\Pr(k)$ is simply the prior probability of class $k$ (with $\\sum_{k=1}^K \\Pr(k) = 1$) that a randomly chosen observation comes from the $k$th class. $\\Pr(X|Y=k)$ on the other hand is the class conditional density of $X$ in class $Y=k$. Following the notation in (Friedman et al. (2001)), we denote $\\Pr(X|Y=k) \\equiv f_k(x)$ to indicate that it is a density function. LDA's decision rule thus classifies an observation into class $k$ if \n",
    "\n",
    "\\begin{align}\n",
    "\\Pr(Y=k|X) &> \\Pr(Y=j|X) \\qquad \\forall j \\neq k \\nonumber \\\\\n",
    "\\end{align}\n",
    "\n",
    "or, if we substitute both sides of the inequality with Bayes' rule:\n",
    "\n",
    "\\begin{align}\n",
    "\\frac{f_k(x) \\Pr(k)}{\\sum_{\\ell=1}^K f_\\ell(x) \\Pr(\\ell)} &> \\frac{f_j(x) \\Pr(j)}{\\sum_{\\ell=1}^K f_\\ell(x) \\Pr(\\ell)} \\qquad \\forall j \\neq k \\nonumber\n",
    "\\end{align}\n",
    "\n",
    "\n",
    "The evidence term (denominator in above equation) can be omitted from the decision rule because it is merely a scaling factor (Raschka (2014)). This then yields the following simple decision boundary:\n",
    "\n",
    "\\begin{align}\n",
    "f_k(x) \\Pr(k) &> f_j(x) \\Pr(j)  \\qquad \\forall j \\neq k\n",
    "\\end{align}\n",
    "\n",
    "This expression can also be written as\n",
    "\\begin{equation}\n",
    "\\delta_k(x) = \\arg \\max_k \\; f_k(x) \\Pr(k) \n",
    "\\end{equation}"
   ]
  },
  {
   "cell_type": "markdown",
   "metadata": {},
   "source": [
    "### Bayes Decision Rule in LDA with One Feature\n",
    "\n",
    "Suppose that $f_k(x)$ follows a Gaussian distribution. For the one-dimensional setting, that is if we have just one feature $p=1$, the normal density takes the well known form\n",
    "\n",
    "\\begin{equation}\n",
    "f_k(x) = \\frac{1}{\\sqrt{2\\pi \\sigma_k^2}} \\, \\exp\\left( - \\frac{(x - \\mu_k)^2}{2 \\sigma_k^2} \\right)\n",
    "\\end{equation}\n",
    "\n",
    "where $\\mu_k$ and $\\sigma_k^2$ are the mean and variance for the $k$th class, respectively. For the moment let us also assume that there is a shared variance term across all $K$ classes, i.e. $\\sigma_1^2 = \\sigma_2^2 = \\ldots = \\sigma_k^2$. Then plugging the normal distribution into our maximization problem, taking the log and doing some algebra - see the appendix of the script for detailed steps - we find that an observation is assigned to class $k$ for which $\\delta_k(x)$ is greatest:\n",
    "\n",
    "\\begin{equation}\n",
    "\\delta_k(x) = \\arg \\max_k \\left[\\frac{x \\mu_k}{\\sigma^2} - \\frac{\\mu_k}{2\\sigma^2} + \\ln(\\Pr(k)) \\right]\n",
    "\\end{equation}"
   ]
  },
  {
   "cell_type": "markdown",
   "metadata": {},
   "source": [
    "Below figure shows how LDA classifies data based on the above result. In the left subplot we see two separate normal densities representing a situation with two classes ($K \\in \\{\\text{blue, green\\}}$). $\\Pr(k=\\text{blue}) = \\Pr(k=\\text{green}) = 0.5$; equal for both classes. Both densities have the same variance $\\sigma_1^2 = \\sigma_2^2 = 1$ but different location parameter, $\\mu_1 = -1.25, \\mu_2 = 1.25$. "
   ]
  },
  {
   "cell_type": "markdown",
   "metadata": {},
   "source": [
    "<img src=\"Graphics/0208_BayesDescBoundary1d.png\" alt=\"BayesDescBoundary1d\" style=\"width: 1000px;\"/>"
   ]
  },
  {
   "cell_type": "markdown",
   "metadata": {},
   "source": [
    "If we were to know these parameter, then LDA's decision boundary would be drawn exactly at zero (dashed line). If $\\Pr(k=\\text{blue}) > \\Pr(k=\\text{green})$, Bayes' decision boundary would move to the right, if $\\Pr(k=\\text{blue}) < \\Pr(k=\\text{green})$, to the left. There is some overlapping area leading to some uncertainty, but overall the error rate is minimized to a minimum. In reality however, we do not know the true location and scale parameter and hence we have to estimate them - what we will discuss momentarily. The right plot displays histograms of 50 randomly drawn observations from the aforementioned normal distribution. Given this data, LDA calculates $\\mu_k, \\sigma^2$ and uses $\\delta_k(x)$ to draw the decision boundary (solid vertical line). Data points to the left belong to the blue class, all others to the green class. The dashed vertical line again displays the optimal decision boundary. Because we don't know the true location and scale parameter LDA relies on estimates. This introduces inaccuracy that is reduced the larger the data sample is (assuming our normal assumption is correct)."
   ]
  },
  {
   "cell_type": "markdown",
   "metadata": {},
   "source": [
    "### Assumptions and Parameter Estimation\n",
    "\n",
    "So far we have discussed how LDA draws its decision boundary with the help of Bayes rule and given the assumptions that the features follow a normal distribution. But in order to follow through with our classification task, estimates for $\\Pr(k), \\mu_k$, and $\\sigma^2$ are required. Estimating the prior probability $\\Pr(k)$ is no difficult job: we simply compute the fraction of training observations that belong to the $k$th class: $\\hat{\\Pr}(k) = n_k / n$, where $n_k$ represents the count of samples from class $k$ and $n$ the count of all samples. Location parameter $\\mu_k$ is estimated using the average of training observation of the $k$th class and $\\sigma^2$, the scale parameter, is the weighted average of the sample variance for each of the $K$ classes (Note that Friedman et al. (2001) and James et al (2013) both use a biased corrected version of $\\hat{\\sigma}^2$ (and $\\hat{\\Sigma}$ for the case of $p>1$) by dividing the summed terms by $n-K$ instead of $n$. The formula given here uses an uncorrected estimate of $\\sigma$ and in that follows `Sklearn`'s implementation.)\n",
    "\n",
    "\\begin{align}\n",
    "\\hat{\\mu}_k &= \\frac{1}{n_k} \\sum_{i:y_i=k} x_i \\\\\n",
    "\\hat{\\sigma}^2 &= \\frac{1}{n} \\sum_{k=1}^K \\sum_{i:y_i=k} (x_i - \\hat{\\mu}_k)^2\n",
    "\\end{align}\n",
    "\n",
    "Given the assumption of normality and given these estimates for location and scale we are able to establish a decision rule that assigns each new data point to the class for which $\\delta_k(x)$ is highest."
   ]
  },
  {
   "cell_type": "markdown",
   "metadata": {},
   "source": [
    "### Bayes Decision Rule in LDA with More Than One Feature\n",
    "\n",
    "Above we have used the one-dimensional case with one predictor to introduce how LDA classifies an observation. Now we extend the classifier to work with multiple features ($p>1$). Again we assume that $X = (X_1, X_2, \\ldots, X_p)$ is drawn from a (multivariate) normal distribution with a class specific mean vector $\\mu_k$ of length $p$ and common covariance matrix $\\Sigma$ of dimension $p \\times p$. This is expressed as $X \\sim N(\\mu, \\Sigma)$. The multivariate Gaussian density is defined as\n",
    "\n",
    "\\begin{equation}\n",
    "f_k(x) = \\frac{1}{(2\\pi)^{p/2}|\\Sigma|^{1/2}} \\, \\exp \\left( -\\frac{1}{2} (x-\\mu_k)^T \\Sigma^{-1} (x-\\mu_k) \\right)\n",
    "\\end{equation}\n",
    "\n",
    "As before we plug this expression into our maximization problem, take the logarithm and perform a little bit of algebra (For the interested the different steps are shown in the appendix of the script). This yields to the following LDA's Bayes classifier rule, based on which an observation $X=x$ is assigned to the class for which $\\delta_k(x)$ is largest.\n",
    "\n",
    "\\begin{equation}\n",
    "\\delta_k(x) = \\arg \\max_k \\left[x^T \\Sigma^{-1} \\mu_k - \\frac{1}{2} \\mu_k^T\\Sigma^{-1}\\mu_k + \\ln(\\Pr(k))\\right]\n",
    "\\end{equation}\n",
    "\n",
    "The estimates for $\\Pr(k), \\mu_k$, and $\\Sigma$ follow again the same approach as in the case of only one predictor.\n",
    "\n",
    "The next figure plots LDA's Bayes decision boundary for a random training set with two features $X_1, X_2$. The colors indicate the binary response with blue circles indicating customers who accepted a product offer and green circles representing those who declined it. The bivariate normal contours (ellipses) represent iso-lines with the same probabilities. LDA uses Bayes' decision rule discussed above to classify any new data point into class $k$. "
   ]
  },
  {
   "cell_type": "markdown",
   "metadata": {},
   "source": [
    "<img src=\"Graphics/0208_BayesDescBoundary2d.png\" alt=\"BayesDescBoundary2d\" style=\"width: 1000px;\"/>"
   ]
  },
  {
   "cell_type": "markdown",
   "metadata": {},
   "source": [
    "### LDA in Python\n",
    "#### Setup\n",
    "\n",
    "We will apply LDA in Python with the functions that are provided through the `sklearn` package and the 'Default' data set we used to introduce logistic regression in a previous chapter. `Sklearn`, short for Scikit-learn, is the go-to source for clustering, classification or regression algorithms in machine learning. It offers an abundant variety of functions and functionalities and is actively developed by a large community. \n",
    "\n",
    "`Sklearn` is one of the most extensive package in Python with hundreds of functions. It is good practice to not load the full library as we did for example with `numpy` but to only load those functions that are needed to run your task at hand. This saves computer memory and with that improves the efficiency of your algorithm, especially if you are using your household PC to run it on larger data sets. "
   ]
  },
  {
   "cell_type": "code",
   "execution_count": 1,
   "metadata": {
    "collapsed": true
   },
   "outputs": [],
   "source": [
    "%matplotlib inline\n",
    "import pandas as pd\n",
    "import numpy as np\n",
    "import matplotlib.pyplot as plt\n",
    "from sklearn import metrics\n",
    "plt.rcParams['font.size'] = 14\n",
    "plt.style.use('seaborn-whitegrid')"
   ]
  },
  {
   "cell_type": "code",
   "execution_count": 2,
   "metadata": {},
   "outputs": [
    {
     "data": {
      "text/html": [
       "<div>\n",
       "<style>\n",
       "    .dataframe thead tr:only-child th {\n",
       "        text-align: right;\n",
       "    }\n",
       "\n",
       "    .dataframe thead th {\n",
       "        text-align: left;\n",
       "    }\n",
       "\n",
       "    .dataframe tbody tr th {\n",
       "        vertical-align: top;\n",
       "    }\n",
       "</style>\n",
       "<table border=\"1\" class=\"dataframe\">\n",
       "  <thead>\n",
       "    <tr style=\"text-align: right;\">\n",
       "      <th></th>\n",
       "      <th>default</th>\n",
       "      <th>student</th>\n",
       "      <th>balance</th>\n",
       "      <th>income</th>\n",
       "      <th>defaultFac</th>\n",
       "      <th>studentFac</th>\n",
       "    </tr>\n",
       "  </thead>\n",
       "  <tbody>\n",
       "    <tr>\n",
       "      <th>0</th>\n",
       "      <td>No</td>\n",
       "      <td>No</td>\n",
       "      <td>729.526495</td>\n",
       "      <td>44361.625074</td>\n",
       "      <td>0</td>\n",
       "      <td>0</td>\n",
       "    </tr>\n",
       "    <tr>\n",
       "      <th>1</th>\n",
       "      <td>No</td>\n",
       "      <td>Yes</td>\n",
       "      <td>817.180407</td>\n",
       "      <td>12106.134700</td>\n",
       "      <td>0</td>\n",
       "      <td>1</td>\n",
       "    </tr>\n",
       "    <tr>\n",
       "      <th>2</th>\n",
       "      <td>No</td>\n",
       "      <td>No</td>\n",
       "      <td>1073.549164</td>\n",
       "      <td>31767.138947</td>\n",
       "      <td>0</td>\n",
       "      <td>0</td>\n",
       "    </tr>\n",
       "    <tr>\n",
       "      <th>3</th>\n",
       "      <td>No</td>\n",
       "      <td>No</td>\n",
       "      <td>529.250605</td>\n",
       "      <td>35704.493935</td>\n",
       "      <td>0</td>\n",
       "      <td>0</td>\n",
       "    </tr>\n",
       "    <tr>\n",
       "      <th>4</th>\n",
       "      <td>No</td>\n",
       "      <td>No</td>\n",
       "      <td>785.655883</td>\n",
       "      <td>38463.495879</td>\n",
       "      <td>0</td>\n",
       "      <td>0</td>\n",
       "    </tr>\n",
       "  </tbody>\n",
       "</table>\n",
       "</div>"
      ],
      "text/plain": [
       "  default student      balance        income  defaultFac  studentFac\n",
       "0      No      No   729.526495  44361.625074           0           0\n",
       "1      No     Yes   817.180407  12106.134700           0           1\n",
       "2      No      No  1073.549164  31767.138947           0           0\n",
       "3      No      No   529.250605  35704.493935           0           0\n",
       "4      No      No   785.655883  38463.495879           0           0"
      ]
     },
     "execution_count": 2,
     "metadata": {},
     "output_type": "execute_result"
    }
   ],
   "source": [
    "# Default data set is not available online. Data was extracted from R package \"ISLR\"\n",
    "df = pd.read_csv('Data/Default.csv', sep=',')\n",
    "\n",
    "# Factorize 'No' and 'Yes' in columns 'default' and 'student'\n",
    "df['defaultFac'] = df.default.factorize()[0]\n",
    "df['studentFac'] = df.student.factorize()[0]\n",
    "df.head(5)"
   ]
  },
  {
   "cell_type": "code",
   "execution_count": 3,
   "metadata": {
    "collapsed": true
   },
   "outputs": [],
   "source": [
    "# Assign data to feature matrix X_train and response vector y_train\n",
    "X_train = df[['balance', 'income', 'studentFac']].as_matrix()\n",
    "y_train = df.defaultFac.as_matrix()"
   ]
  },
  {
   "cell_type": "markdown",
   "metadata": {},
   "source": [
    "#### LDA Classifier Object & Fit\n",
    "Now we are in a position to run the LDA classifier. This, as you can see from the three lines below, is as easy as it gets. "
   ]
  },
  {
   "cell_type": "code",
   "execution_count": 4,
   "metadata": {
    "scrolled": false
   },
   "outputs": [
    {
     "data": {
      "text/plain": [
       "LinearDiscriminantAnalysis(n_components=None, priors=None, shrinkage=None,\n",
       "              solver='lsqr', store_covariance=False, tol=0.0001)"
      ]
     },
     "execution_count": 4,
     "metadata": {},
     "output_type": "execute_result"
    }
   ],
   "source": [
    "from sklearn.discriminant_analysis import LinearDiscriminantAnalysis as LDA\n",
    "\n",
    "# Create LDA object and run classifier\n",
    "lda = LDA(solver='lsqr')\n",
    "lda = lda.fit(X_train, y_train)\n",
    "lda"
   ]
  },
  {
   "cell_type": "markdown",
   "metadata": {},
   "source": [
    "The parameter `solver='lsqr'` specifies the method by which the covariance matrix is estimated. `lsqr` follows the approach introduced in the preceding subsection. Others such as `svd` or `eigen` are available. See [Scikit-learn's guide](http://scikit-learn.org/stable/modules/lda_qda.html#estimation-algorithms) or the [function description](http://scikit-learn.org/stable/modules/generated/sklearn.discriminant_analysis.LinearDiscriminantAnalysis.html).\n",
    "\n",
    "Every function in `sklearn` has different attributes and methods. `Sklearn`s convention is to store anything that is derived from the data in attributes that end with a trailing underscore. That is to separate them from parameters that are set by the user (Mueller and Guido (2017)). For example the estimated covariance matrix can be printed with this command."
   ]
  },
  {
   "cell_type": "code",
   "execution_count": 5,
   "metadata": {},
   "outputs": [
    {
     "data": {
      "text/plain": [
       "array([[  2.05277550e+05,  -9.37165654e+05,   4.21453998e+01],\n",
       "       [ -9.37165654e+05,   1.77777941e+08,  -4.57857337e+03],\n",
       "       [  4.21453998e+01,  -4.57857337e+03,   2.07468022e-01]])"
      ]
     },
     "execution_count": 5,
     "metadata": {},
     "output_type": "execute_result"
    }
   ],
   "source": [
    "lda.covariance_"
   ]
  },
  {
   "cell_type": "markdown",
   "metadata": {},
   "source": [
    "In a Jupyter notebook, to see all options you can simply type `lda.` and hit tab.\n",
    "\n",
    "#### LDA Performance\n",
    "\n",
    "Here are some basic metrics on how the LDA classifier performed on the training data."
   ]
  },
  {
   "cell_type": "code",
   "execution_count": 6,
   "metadata": {
    "scrolled": true
   },
   "outputs": [
    {
     "name": "stdout",
     "output_type": "stream",
     "text": [
      "default-rate:  0.0333\n",
      "score:         0.9725\n",
      "error-rate:    0.0275\n"
     ]
    }
   ],
   "source": [
    "print('default-rate: {0: .4f}'.format(np.sum(y_train)/len(y_train)))\n",
    "print('score:        {0: .4f}'.format(lda.score(X_train, y_train)))\n",
    "print('error-rate:   {0: .4f}'.format(1-lda.score(X_train, y_train)))"
   ]
  },
  {
   "cell_type": "markdown",
   "metadata": {},
   "source": [
    "Overall, 3.33% of all observations defaulted. If we would simply label each entry as 'non-default' we would have an error rate of this magnitude. So, in comparison to this *naive* classifier, LDA seems to have some skill in predicting the default."
   ]
  },
  {
   "cell_type": "markdown",
   "metadata": {},
   "source": [
    "> **IMPORTANT NOTE: In order to be in line with James et al. (2015), the textbook for this course, we have not performed any train/test split of the data. Therefore we will use the same full matrix `X_train` and response vector `y_train` as test data. Performance metrics might be applied to both test and training data but in the end the results on the test set are those that we are ultimately interested in. To drive this point home, I have relabeled the  `X_train` and `y_train` to `X_test`, `y_test`.  Nevertheless, be aware that in this unique case it is the same data!**"
   ]
  },
  {
   "cell_type": "markdown",
   "metadata": {},
   "source": [
    "Let us print the confusion matrix introduced in the previous chapter to see the class-wise performance. For reference the confusion matrix is also printed as `DataFrame` but moving forward be sure to know that row represent the true values and columns predicted labels."
   ]
  },
  {
   "cell_type": "code",
   "execution_count": 7,
   "metadata": {
    "scrolled": true
   },
   "outputs": [
    {
     "name": "stdout",
     "output_type": "stream",
     "text": [
      "[[9645   22]\n",
      " [ 253   80]]\n",
      "Predicted default status    No  Yes\n",
      "True default status                \n",
      "No                        9645   22\n",
      "Yes                        253   80\n"
     ]
    }
   ],
   "source": [
    "# Relabel variables as discussed\n",
    "X_test = X_train\n",
    "y_test = y_train\n",
    "\n",
    "# Predict labels\n",
    "y_pred = lda.predict(X_test)\n",
    "\n",
    "# Sklearn's confusion matrix\n",
    "print(metrics.confusion_matrix(y_test, y_pred))\n",
    "\n",
    "# Manual confusion matrix as pandas DataFrame\n",
    "confm = pd.DataFrame({'Predicted default status': y_pred,\n",
    "                      'True default status': y_test})\n",
    "confm.replace(to_replace={0:'No', 1:'Yes'}, inplace=True)\n",
    "print(confm.groupby(['True default status','Predicted default status']).size().unstack('Predicted default status'))"
   ]
  },
  {
   "cell_type": "markdown",
   "metadata": {},
   "source": [
    "The confusion matrix tells us that for the non-defaulters, LDA only misclassified 22 of them. This is an excellent rate. However, out of the 333 (=253 + 80) people who actually defaulted, LDA classified only 80 correctly. This means our classifier missed out on 76.0% of those who actually defaulted! For a credit card applicant with a bad credit score this is good news. For a credit card company, not so much. "
   ]
  },
  {
   "cell_type": "markdown",
   "metadata": {},
   "source": [
    "#### Varying the Threshold Levels\n",
    "Why does LDA miss all these 'defaulters'? Implicitly, Bayes classifier minimizes the **overall** error rate, meaning that it yields the smallest possible total number of misclassified observations - irrespective of the class-specific error rate. Bayes classifier works by assigning an observation to class 'default' for which the posterior probability $Pr(\\text{default = Yes}|X=x) > 0.5$. For a credit card company who seeks to have as few defaults as possible, this threshold might be too large. Instead, such a company might decide to label any customer with a posterior probability of default above 20% to the 'default' class ($Pr(\\text{default = Yes}|X=x) > 0.2$). Let us investigate how the results in such a case would look like."
   ]
  },
  {
   "cell_type": "code",
   "execution_count": 8,
   "metadata": {},
   "outputs": [
    {
     "data": {
      "text/plain": [
       "array([[ 0.996778  ,  0.003222  ],\n",
       "       [ 0.99731184,  0.00268816],\n",
       "       [ 0.98529382,  0.01470618],\n",
       "       [ 0.99881647,  0.00118353],\n",
       "       [ 0.99597848,  0.00402152]])"
      ]
     },
     "execution_count": 8,
     "metadata": {},
     "output_type": "execute_result"
    }
   ],
   "source": [
    "# Calculated posterior probabilities\n",
    "posteriors = lda.predict_proba(X_test)\n",
    "posteriors[:5, :]"
   ]
  },
  {
   "cell_type": "markdown",
   "metadata": {},
   "source": [
    "The function `lda.predict_proba()` provides the posterior probabilities of $\\Pr(\\text{default = 0}|X=x)$ in the first column and $\\Pr(\\text{default = 1}|X=x)$ in the second. The latter column is what we are interested in. Out of convenience we use `sklearn`'s `binarize` function to classify all probabilities above the threshold of 0.2 as 1 (=default) and generate the confusion matrix."
   ]
  },
  {
   "cell_type": "code",
   "execution_count": 9,
   "metadata": {
    "scrolled": true
   },
   "outputs": [
    {
     "name": "stdout",
     "output_type": "stream",
     "text": [
      "[[9435  232]\n",
      " [ 140  193]]\n"
     ]
    }
   ],
   "source": [
    "from sklearn.preprocessing import binarize\n",
    "\n",
    "# Set threshold and get classes\n",
    "thresh = 0.2\n",
    "y_pred020 = binarize([posteriors[:, 1]], thresh)[0]\n",
    "\n",
    "# new confusion matrix (threshold of 0.2)\n",
    "print(metrics.confusion_matrix(y_test, y_pred020))"
   ]
  },
  {
   "cell_type": "markdown",
   "metadata": {},
   "source": [
    "Now LDA misclassifies only 140 out of 333 defaults, or 42.0%. Thats a sharp improvement over the 76.0% from before. But this comes at a price: Before, of those who did not default LDA mislabeled only 22 (or 0.2%) incorrectly. This number increased now to 232 (or 2.4%). Combined, the total error rate increased from 2.75% to 3.72%. For a credit card company, this might be a price they are willing to pay to have a more accurate identification of individuals who default. \n",
    "\n",
    "Below code snippet calculates and plots the overall error rate, the proportion of missed defaulting customers and the fraction of error among the non-defaulting customers as a function of the threshold value for the posterior probability that is used to assign classes. "
   ]
  },
  {
   "cell_type": "code",
   "execution_count": 10,
   "metadata": {
    "collapsed": true
   },
   "outputs": [],
   "source": [
    "# Array of thresholds\n",
    "thresh = np.linspace(0, 0.5, num=100)\n",
    "\n",
    "er   = []  # Total error rate\n",
    "der  = []  # Defaults error rate\n",
    "nder = []  # Non-Defaults error rate\n",
    "\n",
    "for t in thresh:\n",
    "    # Sort/arrange data\n",
    "    y_pred_class = binarize([posteriors[:, 1]], t)[0]\n",
    "    confm = metrics.confusion_matrix(y_test, y_pred_class)\n",
    "    \n",
    "    # Calculate error rates\n",
    "    er   = np.append(er, (confm[0, 1] + confm[1, 0]) / len(posteriors))\n",
    "    der  = np.append(der, confm[1, 0] / np.sum(confm[1, :]))\n",
    "    nder = np.append(nder, confm[0, 1] / np.sum(confm[0, :]))"
   ]
  },
  {
   "cell_type": "code",
   "execution_count": 11,
   "metadata": {
    "scrolled": false
   },
   "outputs": [
    {
     "data": {
      "image/png": "[encoded data removed]",
      "text/plain": [
       "<matplotlib.figure.Figure at 0x2381bd02cc0>"
      ]
     },
     "metadata": {},
     "output_type": "display_data"
    }
   ],
   "source": [
    "# Plot\n",
    "plt.figure(figsize=(12, 6))\n",
    "plt.plot(thresh, er, label='Total error rate')\n",
    "plt.plot(thresh, der, label='Missed defaults')\n",
    "plt.plot(thresh, nder, label='Missed non-defaults')\n",
    "plt.xlim(0, 0.5)\n",
    "plt.xlabel('Threshold')\n",
    "plt.ylabel('Error Rate')\n",
    "plt.legend();"
   ]
  },
  {
   "cell_type": "markdown",
   "metadata": {},
   "source": [
    "How do we know what threshold value is best? Unfortunately there's no formula for it. \"Such a decision must be based on *domain knowledge*, such as detailed information about costs associated with defaults\" (James et al. (2013, p.147)) and it will always be a **trade-off: if we increase the threshold we reduce the missed non-defaults but at the same time increase the missed defaults**.\n",
    "\n",
    "## Performance Metrics\n",
    "\n",
    "This is now the perfect opportunity to refresh our memory on a few classification performance measures introduced in the previous chapters and add a few more to have a full bag of performance metrics. The following table will help in doing this."
   ]
  },
  {
   "cell_type": "markdown",
   "metadata": {},
   "source": [
    "<img src=\"Graphics/0208_ConfusionMatrixDefault.png\" alt=\"ConfusionMatrixDefault\" style=\"width: 800px;\"/>"
   ]
  },
  {
   "cell_type": "markdown",
   "metadata": {},
   "source": [
    "We will use the following abbreviations ([Markham (2016)](https://github.com/justmarkham/scikit-learn-videos/blob/master/09_classification_metrics.ipynb)): \n",
    "\n",
    "* True Positives (TP): correctly predicted defaults\n",
    "* True Negatives (TN): correctly predicted non-defaults\n",
    "* False Positives (FP): incorrectly predicted defaults (\"Type I error\")\n",
    "* False Negatives (FN): incorrectly predicted non-defaults (\"Type II error\")"
   ]
  },
  {
   "cell_type": "code",
   "execution_count": 12,
   "metadata": {},
   "outputs": [
    {
     "name": "stdout",
     "output_type": "stream",
     "text": [
      "[[9645   22]\n",
      " [ 253   80]]\n"
     ]
    }
   ],
   "source": [
    "# Assign confusion matrix values to variables\n",
    "confm = metrics.confusion_matrix(y_test, y_pred)\n",
    "print(confm)\n",
    "TP = confm[1, 1]  # True positives\n",
    "TN = confm[0, 0]  # True negatives\n",
    "FP = confm[0, 1]  # False positives\n",
    "FN = confm[1, 0]  # False negatives"
   ]
  },
  {
   "cell_type": "markdown",
   "metadata": {},
   "source": [
    "So far we've encountered the following performance metrics: \n",
    "\n",
    "* Score\n",
    "* Error rate\n",
    "* Sensitivity and \n",
    "* Specificity. \n",
    "\n",
    "We briefly recapture their meaning, how they are calculated and how to call them in Scikit-learn. We will make use of the functions in the `metrics` sublibrary of `sklearn`\n",
    "\n",
    "#### Score\n",
    "* Score = (TN + TP) / (TN + TP + FP + FN)\n",
    "* Fraction of (overall) correctly predicted classes"
   ]
  },
  {
   "cell_type": "code",
   "execution_count": 13,
   "metadata": {
    "scrolled": true
   },
   "outputs": [
    {
     "name": "stdout",
     "output_type": "stream",
     "text": [
      "0.9725\n",
      "0.9725\n",
      "0.9725\n"
     ]
    }
   ],
   "source": [
    "print((TP + TN) / (TP + TN + FP + FN))\n",
    "print(metrics.accuracy_score(y_test, y_pred))\n",
    "print(lda.score(X_test, y_test))"
   ]
  },
  {
   "cell_type": "markdown",
   "metadata": {},
   "source": [
    "#### Error rate\n",
    "* Error rate = 1 - Score or Error rate = (FP + FN) / (TN + TP + FP + FN)\n",
    "* Fraction of (overall) incorrectly predicted classes\n",
    "* Also known as \"Misclassification Rate\""
   ]
  },
  {
   "cell_type": "code",
   "execution_count": 14,
   "metadata": {},
   "outputs": [
    {
     "name": "stdout",
     "output_type": "stream",
     "text": [
      "0.0275\n",
      "0.0275\n",
      "0.0275\n"
     ]
    }
   ],
   "source": [
    "print((FP + FN) / (TP + TN + FP + FN))\n",
    "print(1 - metrics.accuracy_score(y_test, y_pred))\n",
    "print(1 - lda.score(X_test, y_test))"
   ]
  },
  {
   "cell_type": "markdown",
   "metadata": {},
   "source": [
    "#### Specificity\n",
    "\n",
    "* Specificity = TN / (TN + FP)\n",
    "* Fraction of correctly predicted negatives (e.g. 'non-defaults')"
   ]
  },
  {
   "cell_type": "code",
   "execution_count": 15,
   "metadata": {
    "scrolled": true
   },
   "outputs": [
    {
     "name": "stdout",
     "output_type": "stream",
     "text": [
      "0.997724216406\n"
     ]
    }
   ],
   "source": [
    "print(TN / (TN + FP))"
   ]
  },
  {
   "cell_type": "markdown",
   "metadata": {},
   "source": [
    "#### Sensitivity or Recall\n",
    "* Sensitivity = TP / (TP + FN)\n",
    "* Fraction of correctly predicted 'positives' (e.g. 'defaults'). Basically asks the question: \"When the actual value is positive, how often is the prediction correct?\"\n",
    "* Also known as **True positive rate**\n",
    "* Counterpart to *Precision*"
   ]
  },
  {
   "cell_type": "code",
   "execution_count": 16,
   "metadata": {
    "scrolled": false
   },
   "outputs": [
    {
     "name": "stdout",
     "output_type": "stream",
     "text": [
      "0.24024024024\n",
      "0.24024024024\n"
     ]
    }
   ],
   "source": [
    "print(TP / (TP + FN))\n",
    "print(metrics.recall_score(y_test, y_pred))"
   ]
  },
  {
   "cell_type": "markdown",
   "metadata": {},
   "source": [
    "The above four classification performance metrics we already encountered. There are two more metrics we want to cover: **Precision** and the **F-Score**.\n",
    "\n",
    "\n",
    "#### Precision\n",
    "* Precision = TP / (TP + FP)\n",
    "* Refers to the accuracy of a positive ('default') prediction. Basically asks the question: \"When a positive value is predicted, how often is the prediction correct?\" \n",
    "* Counterpart to *Recall*"
   ]
  },
  {
   "cell_type": "code",
   "execution_count": 17,
   "metadata": {
    "scrolled": true
   },
   "outputs": [
    {
     "name": "stdout",
     "output_type": "stream",
     "text": [
      "0.78431372549\n",
      "0.78431372549\n"
     ]
    }
   ],
   "source": [
    "print(TP / (TP + FP))\n",
    "print(metrics.precision_score(y_test, y_pred))"
   ]
  },
  {
   "cell_type": "markdown",
   "metadata": {},
   "source": [
    "<img src=\"Graphics/0208_ConfusionMatrixDefault.png\" alt=\"ConfusionMatrixDefault\" style=\"width: 800px;\"/>"
   ]
  },
  {
   "cell_type": "markdown",
   "metadata": {},
   "source": [
    "#### F-Score\n",
    "\n",
    "Van Rijsbergen (1979) introduced a measure that is still widely used to evaluate the accuracy of predictions in two-class (binary) classification problems: the F-Score. It combines Precision and Recall (aka Sensitivity) in one metric and tells us something about the relations between data's positive labels and those given by a classifier. It is a single measure of a classification procedure's usefullness and in general the rule is that the higher the F-Score, the better the predictive power of the classification procedure. It is defined as:\n",
    "\n",
    "\\begin{align}\n",
    "F_{\\beta} &= \\frac{(1 + \\beta^2) \\cdot \\text{precision} \\cdot \\text{recall}}{\\beta^2 \\cdot \\text{precision} + \\text{recall}} \\\\[2ex]\n",
    "          &= \\frac{(1+\\beta^2) \\cdot TP}{(1+\\beta^2) \\cdot TP + \\beta^2 \\cdot FN + FP}\n",
    "\\end{align}\n",
    "\n",
    "This measure employs a parameter $\\beta$ that captures a user's preference (Guggenbuehler (2015)). The most common value for $\\beta$ is 1. This $F_1$-score weights both precision and recall evenly (simple harmonic mean). In rare cases the $F_2$-score is used, which puts twice as much weights on recall as on precision (Hripcsak and Rotschild (2005)).\n",
    "\n"
   ]
  },
  {
   "cell_type": "code",
   "execution_count": 18,
   "metadata": {
    "scrolled": false
   },
   "outputs": [
    {
     "name": "stdout",
     "output_type": "stream",
     "text": [
      "[[9645   22]\n",
      " [ 253   80]]\n",
      "0.367816091954\n",
      "0.367816091954\n",
      "             precision    recall  f1-score   support\n",
      "\n",
      "          0       0.97      1.00      0.99      9667\n",
      "          1       0.78      0.24      0.37       333\n",
      "\n",
      "avg / total       0.97      0.97      0.97     10000\n",
      "\n"
     ]
    }
   ],
   "source": [
    "print(metrics.confusion_matrix(y_test, y_pred))\n",
    "print(metrics.f1_score(y_test, y_pred))\n",
    "print(((1+1**2) * TP)/((1+1**2) * TP + FN + FP))\n",
    "print(metrics.classification_report(y_test, y_pred))"
   ]
  },
  {
   "cell_type": "markdown",
   "metadata": {},
   "source": [
    "Let us compare this to the situation where we set the posterior probability threshold for 'default' at 20%."
   ]
  },
  {
   "cell_type": "code",
   "execution_count": 19,
   "metadata": {},
   "outputs": [
    {
     "name": "stdout",
     "output_type": "stream",
     "text": [
      "[[9435  232]\n",
      " [ 140  193]]\n",
      "             precision    recall  f1-score   support\n",
      "\n",
      "          0       0.99      0.98      0.98      9667\n",
      "          1       0.45      0.58      0.51       333\n",
      "\n",
      "avg / total       0.97      0.96      0.96     10000\n",
      "\n"
     ]
    }
   ],
   "source": [
    "# Confusion matrix & clf-report for cut-off \n",
    "# value Pr(default=yes | X = x) > 0.20\n",
    "print(metrics.confusion_matrix(y_test, y_pred020))\n",
    "print(metrics.classification_report(y_test, y_pred020))"
   ]
  },
  {
   "cell_type": "markdown",
   "metadata": {},
   "source": [
    "We see that by reducing the cut-off level from $\\Pr(\\text{default} = 1| X=x) > 0.5$ to $\\Pr(\\text{default} = 1| X=x) > 0.2$ precision decreases but recall improves. This changes the $F_1$-score. \n",
    "\n",
    "Does this mean that a threshold of 20% is more appropriate? In general, one could argue for a 'yes'. Yet, as mentioned before, this boils down to domain knowledge. Where the $F_1$-score is of help, together with the other metrics introduced, is when we compare models against each other and want to determine which one performed best. For example if we compare results from logistic regression and LDA (and both used a cut-off level of 50%) the F-score would suggest that the one with the higher value performed better."
   ]
  },
  {
   "cell_type": "markdown",
   "metadata": {},
   "source": [
    "For the interested reader an excellent and easily accessible summary on performance metrics is the article by [Sokolova and Lapalme (2009)](http://rali.iro.umontreal.ca/rali/sites/default/files/publis/SokolovaLapalme-JIPM09.pdf). "
   ]
  },
  {
   "cell_type": "markdown",
   "metadata": {},
   "source": [
    "## ROC Curve\n",
    "\n",
    "Having introduced the major performance measures, let us now discuss the so called ROC curve (short for \"receiver operating characteristics\"). This is a very popular way of visualizing the performance of binary classifiers. Its origin are in signal detection theory durign WWII (Flaach (2017)) but it has since found application in medical decision making and machine learning ([Fawcett (2006)](http://people.inf.elte.hu/kiss/13dwhdm/roc.pdf)). ROC investigates the relationship between sensitivity and specificity of a binary classifier. Sensitivity (or true positive rate) measures the proportion of positives (defaults) correctly classified. Specificity (or true negative rate) measures the proportion of negatives (non-defaults) correctly classified. \n",
    "\n",
    "Above we calculated that if we use $\\Pr(\\text{default = Yes}|X=x) > 0.5$ to classify posterior probabilities as defaults, LDA has its best overall error rate but misses on 76.0% of the customers who acutally defaulted. By decreasing the threshold to 0.2 we improved the accuracy of detecting defaults but this came at the cost of a higher overall error rate. This was the trade-off we faced. The ROC curve serves to visualize a variation of this trade-off. It varies the cut-off threshold from 0 to 1 and calculates for each threshold the true positive rate (aka sensitivity) and false positive rate (equals 1 - specificity). These values are then plotted with the former on the vertical and the later on the horizontal axis. \n",
    "\n",
    "Though this might feel a bit abstract if one is not familiar with all these technical terms, the interpretation is fortunately fairly simple. The ideal ROC curve will hug the top left corner. In that case, the area under the curve (AUC) is biggest. The bigger the AUC, the better the classifier. A perfect classifier has an AUC of 1.\n",
    "\n",
    "Here's how we calculate the ROC numbers, the corresponding area under the curve and how we plot it."
   ]
  },
  {
   "cell_type": "code",
   "execution_count": 20,
   "metadata": {
    "collapsed": true
   },
   "outputs": [],
   "source": [
    "# Compute ROC curve and ROC area (AUC) for each class\n",
    "fpr, tpr, thresholds = metrics.roc_curve(y_test, posteriors[:, 1])\n",
    "roc_auc = metrics.auc(fpr, tpr)"
   ]
  },
  {
   "cell_type": "code",
   "execution_count": 21,
   "metadata": {},
   "outputs": [
    {
     "data": {
      "image/png": "[encoded data removed]",
      "text/plain": [
       "<matplotlib.figure.Figure at 0x2381bd20320>"
      ]
     },
     "metadata": {},
     "output_type": "display_data"
    }
   ],
   "source": [
    "plt.figure(figsize=(6, 6))\n",
    "plt.plot(fpr, tpr, lw=2, label='ROC curve (area = {0: 0.2f})'.format(roc_auc))\n",
    "plt.plot([0, 1], [0, 1], lw=2, c = 'k', linestyle='--')\n",
    "plt.xlim([-0.01, 1.0])\n",
    "plt.ylim([-0.01, 1.01])\n",
    "plt.xlabel('False Positive Rate (1 - Specificity)')\n",
    "plt.ylabel('True Positive Rate (Sensitivity)')\n",
    "plt.title('Receiver operating characteristic (ROC)', fontweight='bold', fontsize=18)\n",
    "plt.legend(loc=\"lower right\");"
   ]
  },
  {
   "cell_type": "markdown",
   "metadata": {
    "collapsed": true
   },
   "source": [
    "An AUC value of 0.95 is close to the maximum of 1 and should be deemed very good. The dashed black line puts this in perspective: it represents the \"no information\" classifier; this is what we would expect if the probability of default is not associated with 'student' status and 'balance'. Such a classifier, that performs no better than chance, is expected to have an AUC of 0.5. "
   ]
  },
  {
   "cell_type": "markdown",
   "metadata": {},
   "source": [
    "## Quadratic Discriminant Analysis\n",
    "\n",
    "### Underlying Assumptions\n",
    "\n",
    "For LDA we assume that observations within each class are drawn from a multivariate normal distribution with a class-specific mean vector and a common covariance metrix: $X \\sim N(\\mu_k, \\Sigma)$. Quadratic discriminant analysis (QDA) relaxes these assumptions somewhat. The basic assumption is still that the observations follow a multivariate normal distribution, however, QDA allows for class specific means and covariance matrices: $X \\sim N(\\mu_k, \\Sigma_k)$, where $\\Sigma_k$ is a covariance matrix for the $k$th class. With that, the Bayes classifier assigns an observation to the class for which \n",
    "\n",
    "\\begin{equation}\n",
    "\\delta_k(x) = \\arg \\max_k \\; - \\frac{1}{2} \\ln(|\\Sigma_k|) - \\frac{1}{2} (x - \\mu_k)^T \\Sigma_k^{-1} (x - \\mu_k) + \\ln(\\Pr(k))\n",
    "\\end{equation}\n",
    "\n",
    "is highest. For a derivation of this result see again the appendix of the script. As was the case for LDA, parameter $\\mu_k, \\Sigma_k$ and $\\Pr(k)$ are again estimated from the training data with the same formulas introduced in this notebook. \n",
    "\n",
    "Below figure depict both LDA and QDA. Both classifiers were trained on the same data. Due to the different variability of the two classes the QDA algorithm seems to perform slightly better in this case."
   ]
  },
  {
   "cell_type": "markdown",
   "metadata": {},
   "source": [
    "<img src=\"Graphics/0208_QDABayesDescBoundary2d.png\" alt=\"QDABayesDescBoundary2d\" style=\"width: 1000px;\"/>"
   ]
  },
  {
   "cell_type": "markdown",
   "metadata": {},
   "source": [
    "Under what circumstances should we prefer QDA over LDA? As always, there's no straight answer to this question. Obviously, performance should be king. However, it is said that LDA tends to be a better bet than QDA if the training set is small. In contrast, if the hold-out set is large or the assumption of a common covariance matrix is clearly incorrect, then QDA is recommended. Beyond that, we have to keep in mind that QDA estimates $K p(p+1)/2$ parameters. So if the number of parameters $p$ is large, QDA might take some time to process (James et al. (2013)). "
   ]
  },
  {
   "cell_type": "markdown",
   "metadata": {},
   "source": [
    "> **Naive Bayes**\n",
    "\n",
    "> Naive Bayes is the name for a family of popular ML algorithms that are often used in text mining. Text mining is a field of ML that deals with extracting quantitative information from text. A simple example of it is the analysis of Twitter feeds in order to predict stock market reactions. There exist different variations of Naive Bayes applications. One is called 'Gaussian Naive Bayes' and works similar to QDA - with the exception that contrary to QDA the covariance matrices $\\Sigma$ are assumed to be diagonal. This means $\\Sigma_k$ only contains the variances of the different features for class $k$. Its covariance terms (the off-diagonal elements) are assumed to be zero. Because of its popularity, Naive Bayes is well documented in text books and on the web. A good starting point is Scikit-learn's tutorial on [Naive Bayes](http://scikit-learn.org/stable/modules/naive_bayes.html), Collins (2013) or Russell and Norvig (2009, p.499). To apply the algorithm in Python you want to use `sklearn.naive_bayes.GaussianNB()` or (for text mining preferably) `sklearn.naive_bayes.MultinomialNB()`. "
   ]
  },
  {
   "cell_type": "markdown",
   "metadata": {},
   "source": [
    "### QDA in Python\n",
    "\n",
    "The application of QDA follows the one detailed for LDA. Therefore we let the code speak for itself."
   ]
  },
  {
   "cell_type": "code",
   "execution_count": 22,
   "metadata": {},
   "outputs": [
    {
     "data": {
      "text/plain": [
       "QuadraticDiscriminantAnalysis(priors=None, reg_param=0.0,\n",
       "               store_covariance=False, store_covariances=None, tol=0.0001)"
      ]
     },
     "execution_count": 22,
     "metadata": {},
     "output_type": "execute_result"
    }
   ],
   "source": [
    "from sklearn.discriminant_analysis import QuadraticDiscriminantAnalysis as QDA\n",
    "\n",
    "# Run qda on training data\n",
    "qda = QDA().fit(X_train, y_train)\n",
    "qda"
   ]
  },
  {
   "cell_type": "code",
   "execution_count": 23,
   "metadata": {
    "scrolled": true
   },
   "outputs": [
    {
     "name": "stdout",
     "output_type": "stream",
     "text": [
      "[[9636   31]\n",
      " [ 239   94]]\n",
      "0.973\n",
      "             precision    recall  f1-score   support\n",
      "\n",
      "          0       0.98      1.00      0.99      9667\n",
      "          1       0.75      0.28      0.41       333\n",
      "\n",
      "avg / total       0.97      0.97      0.97     10000\n",
      "\n"
     ]
    }
   ],
   "source": [
    "# Predict classes for qda\n",
    "y_pred_qda = qda.predict(X_test)\n",
    "posteriors_qda = qda.predict_proba(X_test)[:, 1]\n",
    "\n",
    "# Print performance metrics\n",
    "print(metrics.confusion_matrix(y_test, y_pred_qda))\n",
    "print(qda.score(X_test, y_test))\n",
    "print(metrics.classification_report(y_test, y_pred_qda))"
   ]
  },
  {
   "cell_type": "markdown",
   "metadata": {},
   "source": [
    "The performance seems to be slightly better than with LDA. Let's plot the ROC curve for both LDA and QDA."
   ]
  },
  {
   "cell_type": "code",
   "execution_count": 24,
   "metadata": {
    "collapsed": true
   },
   "outputs": [],
   "source": [
    "# Compute ROC curve and ROC area (AUC) for each class\n",
    "fpr_qda, tpr_qda, _ = metrics.roc_curve(y_test, posteriors_qda)\n",
    "roc_auc_qda = metrics.auc(fpr_qda, tpr_qda)"
   ]
  },
  {
   "cell_type": "code",
   "execution_count": 25,
   "metadata": {},
   "outputs": [
    {
     "data": {
      "image/png": "[encoded data removed]",
      "text/plain": [
       "<matplotlib.figure.Figure at 0x2381bf654a8>"
      ]
     },
     "metadata": {},
     "output_type": "display_data"
    }
   ],
   "source": [
    "plt.figure(figsize=(6, 6))\n",
    "plt.plot(fpr, tpr, lw=2, label='LDA ROC (AUC = {0: 0.2f})'.format(roc_auc))\n",
    "plt.plot(fpr_qda, tpr_qda, lw=2, label='QDA ROC (AUC = {0: 0.2f})'.format(roc_auc_qda))\n",
    "plt.plot([0, 1], [0, 1], lw=2, c = 'k', linestyle='--')\n",
    "plt.xlim([-0.01, 1.0])\n",
    "plt.ylim([-0.01, 1.01])\n",
    "plt.xlabel('False Positive Rate (1 - Specificity)')\n",
    "plt.ylabel('True Positive Rate (Sensitivity)')\n",
    "plt.title('ROC Curve', fontweight='bold', fontsize=18)\n",
    "plt.legend(loc=\"lower right\");"
   ]
  },
  {
   "cell_type": "markdown",
   "metadata": {},
   "source": [
    "With respect to Sensitivity (Recall) and Specificity LDA and QDA perform virtually identical. Therefore, one might give the edge here to QDA because of its slighly better Recall and $F_1$-Score. "
   ]
  },
  {
   "cell_type": "markdown",
   "metadata": {},
   "source": [
    "## Reality and the Gaussian Assumption for LDA & QDA\n",
    "\n",
    "Despite the rather strict assumptions regarding normal distribution, LDA and QDA perform well on an amazingly large and diverse set of classification tasks. Friedman et al. (2001, p. 111) put it this way:\n",
    "\n",
    "> *\"Both techniques are widely used, and entire books are devoted to LDA. It seems that whatever exotic tools are the rage of the day, we should always have available these two simple tools. The question arises why LDA and QDA have such a good track record. The reason is not likely to be that the data are approximately Gaussian, and in addition for LDA that the covariances are approximately equal. More likely a reason is that the data can only support simple decision boundaries such as linear or quadratic, and the estimates provided via the Gaussian models are stable. This is a bias variance tradeoff - we can put up with the bias of a linear decision boundary because it can be estimated with much lower variance than more exotic alternatives. This argument is less believable for QDA, since it can have many parameters itself - although perhaps fewer than the non-parametric alternatives.\"*\n",
    "\n",
    "Whether LDA or QDA should be applied to categorical/binary features warrants a separate note. It is true that discriminant analysis was designed for continuous features (Ronald A. Fisher (1936)) where the underlying assumption is that the values are normally distributed. However, as above quote shows, studies have proven the robustness of the model even in light of violations of the rather rigid normality assumption. This is not only true for continuous features but also for categorical/binary features. For more details see Huberty et al. (1986). It follows that applying LDA and QDA is possible, though the user should cautiously control the output. We will discuss appropriate cross validation methods to do so in the next chapter. "
   ]
  },
  {
   "cell_type": "markdown",
   "metadata": {},
   "source": [
    "# Further Ressources\n",
    "\n",
    "\n",
    "In writing this notebook, many ressources were consulted. For internet ressources the links are provided within the textflow above and will therefore not be listed again. Beyond these links, the following ressources were consulted and are recommended as further reading on the discussed topics:\n",
    "\n",
    "* Collins, Michael, 2013, The Naive Bayes Model, Maximum-Likelihood Estimation, and the EM Algorithm, Technical report, Columbia University, New York.\n",
    "* Fawcett, Tom, 2006, An introduction to ROC analysis, *Pattern Recognition Letters* 27, 861–874.\n",
    "* Fisher, Roland A., 1936, The Use of Multiple Measurements in Taxonomic Problems, *Annals of Human Genetics* 7, 179-188.\n",
    "* Flach, Peter A., 2017, Roc analysis, in Claude Sammut, and Geoffrey I. Webb, eds., *Encyclopedia of Machine Learning and Data Mining*, 1109–1116 (Springer Science & Business Media, New York, NY).\n",
    "* Friedman, Jerome, Trevor Hastie, and Robert Tibshirani, 2001, *The Elements of Statistical Learning* (Springer, New York, NY).\n",
    "* Guggenbuehler, Jan P., 2015, Predicting Net New Money Using Machine Learning Algorithms and Newspaper Articles, Technical report, University of Zurich, Zurich.\n",
    "* James, Gareth, Daniela Witten, Trevor Hastie, and Robert Tibshirani, 2013, *An Introduction to Statistical Learning: With Applications in R* (Springer Science & Business Media, New York, NY).\n",
    "* Jobson, J. David, and Bob Korkie, 1980, Estimation for Markowitz Efficient Portfolios, *Journal of the American Statistical Association* 75, 544–554.\n",
    "* Hripcsak, George, and Adam S Rothschild, 2005, Agreement, the F-measure, and Reliability in Information Retrieval, *Journal of the American Medical Informatics Association* 12, 296–298.\n",
    "* Huberty, Carl J., Joseph M. Wisenbaker, Jerry D. Smith, and Janet C. Smith, 1986, Using Categorical Variables in Discriminant Analysis, *Multivariate Behavioral Research* 21, 479-496.\n",
    "* Ledoit, Olivier, and Michael Wolf, 2004, Honey, i shrunk the sample covariance matrix, *The Journal of Portfolio Management* 30, 110–119.\n",
    "* Müller, Andreas C., and Sarah Guido, 2017, *Introduction to Machine Learning with Python* (O’Reilly Media, Sebastopol, CA).\n",
    "* Raschka, Sebastian, 2014, Naive Bayes and Text Classification I - Introduction and Theory from website, http://sebastianraschka.com/Articles/2014_naive_bayes_1.html, 08/31/2017\n",
    "* Russell, Stuart, and Peter Norvig, 2009, *Artificial Intelligence: A Modern Approach* (Prentice Hall Press, Upper Saddle River, NJ).\n",
    "* Sokolova, Marina, and Guy Lapalme, 2009, A systematic analysis of performance measures for classification tasks, *Information Processing & Management* 45, 427–437.\n",
    "* Van Rijsbergen, Cornelis Joost, 1979, *Information Retrieval* (Butterworths, London)."
   ]
  }
 ],
 "metadata": {
  "kernelspec": {
   "display_name": "Python 3",
   "language": "python",
   "name": "python3"
  },
  "language_info": {
   "codemirror_mode": {
    "name": "ipython",
    "version": 3
   },
   "file_extension": ".py",
   "mimetype": "text/x-python",
   "name": "python",
   "nbconvert_exporter": "python",
   "pygments_lexer": "ipython3",
   "version": "3.7.4"
  }
 },
 "nbformat": 4,
 "nbformat_minor": 2
}
