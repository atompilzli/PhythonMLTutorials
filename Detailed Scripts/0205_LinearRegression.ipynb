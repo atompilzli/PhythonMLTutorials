{
 "cells": [
  {
   "cell_type": "markdown",
   "metadata": {},
   "source": [
    "# Linear Regression"
   ]
  },
  {
   "cell_type": "markdown",
   "metadata": {},
   "source": [
    "# Simple Linear Regression\n",
    "\n",
    "Running a SLR in Python is fairly simple once you know how to use the relevant functions. What might be confusing is that there exist several packages which provide functions for linear regression. We will use functions from the `statsmodels` (sub-)package. Other packages such as e.g. `scikit-learn` have linear regression functions too, but what makes `statsmodels` stand out from other packages is its broad set of auxiliary functions for regression diagnostics. As usual we start by importing the packages needed for our task."
   ]
  },
  {
   "cell_type": "code",
   "execution_count": 6,
   "metadata": {
    "scrolled": true
   },
   "outputs": [],
   "source": [
    "# Load relevant packages\n",
    "%matplotlib inline\n",
    "import numpy as np\n",
    "import pandas as pd\n",
    "import statsmodels.api as sm\n",
    "import matplotlib.pyplot as plt\n",
    "plt.style.use('seaborn-whitegrid')\n",
    "plt.rcParams['font.size'] = 14"
   ]
  },
  {
   "cell_type": "markdown",
   "metadata": {},
   "source": [
    "As toy data we will use the 'Advertising' data set introduced in the chapter 4 of the script. The data is taken from James et al. (2013). A copy is provided on the book's website where we will download it from."
   ]
  },
  {
   "cell_type": "code",
   "execution_count": 12,
   "metadata": {
    "scrolled": true
   },
   "outputs": [
    {
     "ename": "ValueError",
     "evalue": "Usecols do not match columns, columns expected but not found: [1, 2, 3, 4]",
     "output_type": "error",
     "traceback": [
      "\u001b[1;31m---------------------------------------------------------------------------\u001b[0m",
      "\u001b[1;31mValueError\u001b[0m                                Traceback (most recent call last)",
      "\u001b[1;32m<ipython-input-12-6b8203b2b1bf>\u001b[0m in \u001b[0;36m<module>\u001b[1;34m\u001b[0m\n\u001b[0;32m      1\u001b[0m \u001b[1;31m# From Advertising data set read cols 2:4\u001b[0m\u001b[1;33m\u001b[0m\u001b[1;33m\u001b[0m\u001b[1;33m\u001b[0m\u001b[0m\n\u001b[0;32m      2\u001b[0m \u001b[0murl\u001b[0m \u001b[1;33m=\u001b[0m \u001b[1;34m'http://www-bcf.usc.edu/~gareth/ISL/Advertising.csv'\u001b[0m\u001b[1;33m\u001b[0m\u001b[1;33m\u001b[0m\u001b[0m\n\u001b[1;32m----> 3\u001b[1;33m \u001b[0mad\u001b[0m \u001b[1;33m=\u001b[0m \u001b[0mpd\u001b[0m\u001b[1;33m.\u001b[0m\u001b[0mread_csv\u001b[0m\u001b[1;33m(\u001b[0m\u001b[0murl\u001b[0m\u001b[1;33m,\u001b[0m \u001b[0msep\u001b[0m\u001b[1;33m=\u001b[0m\u001b[1;34m','\u001b[0m\u001b[1;33m,\u001b[0m \u001b[0musecols\u001b[0m\u001b[1;33m=\u001b[0m\u001b[1;33m(\u001b[0m\u001b[0mnp\u001b[0m\u001b[1;33m.\u001b[0m\u001b[0marange\u001b[0m\u001b[1;33m(\u001b[0m\u001b[1;36m1\u001b[0m\u001b[1;33m,\u001b[0m \u001b[1;36m5\u001b[0m\u001b[1;33m,\u001b[0m \u001b[1;36m1\u001b[0m\u001b[1;33m)\u001b[0m\u001b[1;33m)\u001b[0m\u001b[1;33m)\u001b[0m\u001b[1;33m\u001b[0m\u001b[1;33m\u001b[0m\u001b[0m\n\u001b[0m\u001b[0;32m      4\u001b[0m \u001b[0mprint\u001b[0m\u001b[1;33m(\u001b[0m\u001b[0mad\u001b[0m\u001b[1;33m.\u001b[0m\u001b[0mhead\u001b[0m\u001b[1;33m(\u001b[0m\u001b[1;33m)\u001b[0m\u001b[1;33m)\u001b[0m\u001b[1;33m\u001b[0m\u001b[1;33m\u001b[0m\u001b[0m\n",
      "\u001b[1;32m~\\Anaconda3\\lib\\site-packages\\pandas\\io\\parsers.py\u001b[0m in \u001b[0;36mparser_f\u001b[1;34m(filepath_or_buffer, sep, delimiter, header, names, index_col, usecols, squeeze, prefix, mangle_dupe_cols, dtype, engine, converters, true_values, false_values, skipinitialspace, skiprows, skipfooter, nrows, na_values, keep_default_na, na_filter, verbose, skip_blank_lines, parse_dates, infer_datetime_format, keep_date_col, date_parser, dayfirst, cache_dates, iterator, chunksize, compression, thousands, decimal, lineterminator, quotechar, quoting, doublequote, escapechar, comment, encoding, dialect, error_bad_lines, warn_bad_lines, delim_whitespace, low_memory, memory_map, float_precision)\u001b[0m\n\u001b[0;32m    683\u001b[0m         )\n\u001b[0;32m    684\u001b[0m \u001b[1;33m\u001b[0m\u001b[0m\n\u001b[1;32m--> 685\u001b[1;33m         \u001b[1;32mreturn\u001b[0m \u001b[0m_read\u001b[0m\u001b[1;33m(\u001b[0m\u001b[0mfilepath_or_buffer\u001b[0m\u001b[1;33m,\u001b[0m \u001b[0mkwds\u001b[0m\u001b[1;33m)\u001b[0m\u001b[1;33m\u001b[0m\u001b[1;33m\u001b[0m\u001b[0m\n\u001b[0m\u001b[0;32m    686\u001b[0m \u001b[1;33m\u001b[0m\u001b[0m\n\u001b[0;32m    687\u001b[0m     \u001b[0mparser_f\u001b[0m\u001b[1;33m.\u001b[0m\u001b[0m__name__\u001b[0m \u001b[1;33m=\u001b[0m \u001b[0mname\u001b[0m\u001b[1;33m\u001b[0m\u001b[1;33m\u001b[0m\u001b[0m\n",
      "\u001b[1;32m~\\Anaconda3\\lib\\site-packages\\pandas\\io\\parsers.py\u001b[0m in \u001b[0;36m_read\u001b[1;34m(filepath_or_buffer, kwds)\u001b[0m\n\u001b[0;32m    455\u001b[0m \u001b[1;33m\u001b[0m\u001b[0m\n\u001b[0;32m    456\u001b[0m     \u001b[1;31m# Create the parser.\u001b[0m\u001b[1;33m\u001b[0m\u001b[1;33m\u001b[0m\u001b[1;33m\u001b[0m\u001b[0m\n\u001b[1;32m--> 457\u001b[1;33m     \u001b[0mparser\u001b[0m \u001b[1;33m=\u001b[0m \u001b[0mTextFileReader\u001b[0m\u001b[1;33m(\u001b[0m\u001b[0mfp_or_buf\u001b[0m\u001b[1;33m,\u001b[0m \u001b[1;33m**\u001b[0m\u001b[0mkwds\u001b[0m\u001b[1;33m)\u001b[0m\u001b[1;33m\u001b[0m\u001b[1;33m\u001b[0m\u001b[0m\n\u001b[0m\u001b[0;32m    458\u001b[0m \u001b[1;33m\u001b[0m\u001b[0m\n\u001b[0;32m    459\u001b[0m     \u001b[1;32mif\u001b[0m \u001b[0mchunksize\u001b[0m \u001b[1;32mor\u001b[0m \u001b[0miterator\u001b[0m\u001b[1;33m:\u001b[0m\u001b[1;33m\u001b[0m\u001b[1;33m\u001b[0m\u001b[0m\n",
      "\u001b[1;32m~\\Anaconda3\\lib\\site-packages\\pandas\\io\\parsers.py\u001b[0m in \u001b[0;36m__init__\u001b[1;34m(self, f, engine, **kwds)\u001b[0m\n\u001b[0;32m    893\u001b[0m             \u001b[0mself\u001b[0m\u001b[1;33m.\u001b[0m\u001b[0moptions\u001b[0m\u001b[1;33m[\u001b[0m\u001b[1;34m\"has_index_names\"\u001b[0m\u001b[1;33m]\u001b[0m \u001b[1;33m=\u001b[0m \u001b[0mkwds\u001b[0m\u001b[1;33m[\u001b[0m\u001b[1;34m\"has_index_names\"\u001b[0m\u001b[1;33m]\u001b[0m\u001b[1;33m\u001b[0m\u001b[1;33m\u001b[0m\u001b[0m\n\u001b[0;32m    894\u001b[0m \u001b[1;33m\u001b[0m\u001b[0m\n\u001b[1;32m--> 895\u001b[1;33m         \u001b[0mself\u001b[0m\u001b[1;33m.\u001b[0m\u001b[0m_make_engine\u001b[0m\u001b[1;33m(\u001b[0m\u001b[0mself\u001b[0m\u001b[1;33m.\u001b[0m\u001b[0mengine\u001b[0m\u001b[1;33m)\u001b[0m\u001b[1;33m\u001b[0m\u001b[1;33m\u001b[0m\u001b[0m\n\u001b[0m\u001b[0;32m    896\u001b[0m \u001b[1;33m\u001b[0m\u001b[0m\n\u001b[0;32m    897\u001b[0m     \u001b[1;32mdef\u001b[0m \u001b[0mclose\u001b[0m\u001b[1;33m(\u001b[0m\u001b[0mself\u001b[0m\u001b[1;33m)\u001b[0m\u001b[1;33m:\u001b[0m\u001b[1;33m\u001b[0m\u001b[1;33m\u001b[0m\u001b[0m\n",
      "\u001b[1;32m~\\Anaconda3\\lib\\site-packages\\pandas\\io\\parsers.py\u001b[0m in \u001b[0;36m_make_engine\u001b[1;34m(self, engine)\u001b[0m\n\u001b[0;32m   1133\u001b[0m     \u001b[1;32mdef\u001b[0m \u001b[0m_make_engine\u001b[0m\u001b[1;33m(\u001b[0m\u001b[0mself\u001b[0m\u001b[1;33m,\u001b[0m \u001b[0mengine\u001b[0m\u001b[1;33m=\u001b[0m\u001b[1;34m\"c\"\u001b[0m\u001b[1;33m)\u001b[0m\u001b[1;33m:\u001b[0m\u001b[1;33m\u001b[0m\u001b[1;33m\u001b[0m\u001b[0m\n\u001b[0;32m   1134\u001b[0m         \u001b[1;32mif\u001b[0m \u001b[0mengine\u001b[0m \u001b[1;33m==\u001b[0m \u001b[1;34m\"c\"\u001b[0m\u001b[1;33m:\u001b[0m\u001b[1;33m\u001b[0m\u001b[1;33m\u001b[0m\u001b[0m\n\u001b[1;32m-> 1135\u001b[1;33m             \u001b[0mself\u001b[0m\u001b[1;33m.\u001b[0m\u001b[0m_engine\u001b[0m \u001b[1;33m=\u001b[0m \u001b[0mCParserWrapper\u001b[0m\u001b[1;33m(\u001b[0m\u001b[0mself\u001b[0m\u001b[1;33m.\u001b[0m\u001b[0mf\u001b[0m\u001b[1;33m,\u001b[0m \u001b[1;33m**\u001b[0m\u001b[0mself\u001b[0m\u001b[1;33m.\u001b[0m\u001b[0moptions\u001b[0m\u001b[1;33m)\u001b[0m\u001b[1;33m\u001b[0m\u001b[1;33m\u001b[0m\u001b[0m\n\u001b[0m\u001b[0;32m   1136\u001b[0m         \u001b[1;32melse\u001b[0m\u001b[1;33m:\u001b[0m\u001b[1;33m\u001b[0m\u001b[1;33m\u001b[0m\u001b[0m\n\u001b[0;32m   1137\u001b[0m             \u001b[1;32mif\u001b[0m \u001b[0mengine\u001b[0m \u001b[1;33m==\u001b[0m \u001b[1;34m\"python\"\u001b[0m\u001b[1;33m:\u001b[0m\u001b[1;33m\u001b[0m\u001b[1;33m\u001b[0m\u001b[0m\n",
      "\u001b[1;32m~\\Anaconda3\\lib\\site-packages\\pandas\\io\\parsers.py\u001b[0m in \u001b[0;36m__init__\u001b[1;34m(self, src, **kwds)\u001b[0m\n\u001b[0;32m   1967\u001b[0m \u001b[1;33m\u001b[0m\u001b[0m\n\u001b[0;32m   1968\u001b[0m             \u001b[1;32mif\u001b[0m \u001b[0mlen\u001b[0m\u001b[1;33m(\u001b[0m\u001b[0mself\u001b[0m\u001b[1;33m.\u001b[0m\u001b[0mnames\u001b[0m\u001b[1;33m)\u001b[0m \u001b[1;33m<\u001b[0m \u001b[0mlen\u001b[0m\u001b[1;33m(\u001b[0m\u001b[0musecols\u001b[0m\u001b[1;33m)\u001b[0m\u001b[1;33m:\u001b[0m\u001b[1;33m\u001b[0m\u001b[1;33m\u001b[0m\u001b[0m\n\u001b[1;32m-> 1969\u001b[1;33m                 \u001b[0m_validate_usecols_names\u001b[0m\u001b[1;33m(\u001b[0m\u001b[0musecols\u001b[0m\u001b[1;33m,\u001b[0m \u001b[0mself\u001b[0m\u001b[1;33m.\u001b[0m\u001b[0mnames\u001b[0m\u001b[1;33m)\u001b[0m\u001b[1;33m\u001b[0m\u001b[1;33m\u001b[0m\u001b[0m\n\u001b[0m\u001b[0;32m   1970\u001b[0m \u001b[1;33m\u001b[0m\u001b[0m\n\u001b[0;32m   1971\u001b[0m         \u001b[0mself\u001b[0m\u001b[1;33m.\u001b[0m\u001b[0m_set_noconvert_columns\u001b[0m\u001b[1;33m(\u001b[0m\u001b[1;33m)\u001b[0m\u001b[1;33m\u001b[0m\u001b[1;33m\u001b[0m\u001b[0m\n",
      "\u001b[1;32m~\\Anaconda3\\lib\\site-packages\\pandas\\io\\parsers.py\u001b[0m in \u001b[0;36m_validate_usecols_names\u001b[1;34m(usecols, names)\u001b[0m\n\u001b[0;32m   1253\u001b[0m         raise ValueError(\n\u001b[0;32m   1254\u001b[0m             \u001b[1;34m\"Usecols do not match columns, \"\u001b[0m\u001b[1;33m\u001b[0m\u001b[1;33m\u001b[0m\u001b[0m\n\u001b[1;32m-> 1255\u001b[1;33m             \u001b[1;34m\"columns expected but not found: {missing}\"\u001b[0m\u001b[1;33m.\u001b[0m\u001b[0mformat\u001b[0m\u001b[1;33m(\u001b[0m\u001b[0mmissing\u001b[0m\u001b[1;33m=\u001b[0m\u001b[0mmissing\u001b[0m\u001b[1;33m)\u001b[0m\u001b[1;33m\u001b[0m\u001b[1;33m\u001b[0m\u001b[0m\n\u001b[0m\u001b[0;32m   1256\u001b[0m         )\n\u001b[0;32m   1257\u001b[0m \u001b[1;33m\u001b[0m\u001b[0m\n",
      "\u001b[1;31mValueError\u001b[0m: Usecols do not match columns, columns expected but not found: [1, 2, 3, 4]"
     ]
    }
   ],
   "source": [
    "# From Advertising data set read cols 2:4\n",
    "url = 'http://www-bcf.usc.edu/~gareth/ISL/Advertising.csv'\n",
    "ad = pd.read_csv(url, sep=',', usecols=(np.arange(1, 5, 1)))\n",
    "print(ad.head())"
   ]
  },
  {
   "cell_type": "markdown",
   "metadata": {},
   "source": [
    "Next we run a linear regression of `TV` on `sales` to calculate the coefficients and print a summary output."
   ]
  },
  {
   "cell_type": "code",
   "execution_count": 3,
   "metadata": {
    "scrolled": false
   },
   "outputs": [
    {
     "name": "stdout",
     "output_type": "stream",
     "text": [
      "                            OLS Regression Results                            \n",
      "==============================================================================\n",
      "Dep. Variable:                  sales   R-squared:                       0.612\n",
      "Model:                            OLS   Adj. R-squared:                  0.610\n",
      "Method:                 Least Squares   F-statistic:                     312.1\n",
      "Date:                Fri, 28 Dec 2018   Prob (F-statistic):           1.47e-42\n",
      "Time:                        15:37:05   Log-Likelihood:                -519.05\n",
      "No. Observations:                 200   AIC:                             1042.\n",
      "Df Residuals:                     198   BIC:                             1049.\n",
      "Df Model:                           1                                         \n",
      "Covariance Type:            nonrobust                                         \n",
      "==============================================================================\n",
      "                 coef    std err          t      P>|t|      [0.025      0.975]\n",
      "------------------------------------------------------------------------------\n",
      "const          7.0326      0.458     15.360      0.000       6.130       7.935\n",
      "TV             0.0475      0.003     17.668      0.000       0.042       0.053\n",
      "==============================================================================\n",
      "Omnibus:                        0.531   Durbin-Watson:                   1.935\n",
      "Prob(Omnibus):                  0.767   Jarque-Bera (JB):                0.669\n",
      "Skew:                          -0.089   Prob(JB):                        0.716\n",
      "Kurtosis:                       2.779   Cond. No.                         338.\n",
      "==============================================================================\n",
      "\n",
      "Warnings:\n",
      "[1] Standard Errors assume that the covariance matrix of the errors is correctly specified.\n"
     ]
    }
   ],
   "source": [
    "# Run regression and calculate fit\n",
    "reg = sm.OLS(ad.sales, exog=sm.add_constant(ad.TV)).fit()\n",
    "# Alternatively: reg = sm.OLS(ad.sales, sm.add_constant(ad.TV)).fit()\n",
    "print(reg.summary())"
   ]
  },
  {
   "cell_type": "markdown",
   "metadata": {},
   "source": [
    "**Side note:** If you are an `R` guy and prefer their syntax, you could import the statsmodels.formula.api subpackage and run something like:\n",
    "\n",
    "> `from statsmodels.formula.api import ols\n",
    "reg = ols(\"Sales ~ TV\", data=ad).fit()\n",
    "reg.summary()`\n",
    "\n",
    "Intercept will automatically be calculated in the above setting."
   ]
  },
  {
   "cell_type": "markdown",
   "metadata": {},
   "source": [
    "Both p-values for intercept ($\\hat{\\beta}_0$) and slope ($\\hat{\\beta}_1$) are smaller than any reasonable significance level and thus we can reject the null hypothesis that either of the coefficients is zero (or irrelevant)."
   ]
  },
  {
   "cell_type": "markdown",
   "metadata": {},
   "source": [
    "Instead of printing the whole summary, we could also access each of the three summary as follows:"
   ]
  },
  {
   "cell_type": "code",
   "execution_count": 4,
   "metadata": {
    "scrolled": true
   },
   "outputs": [
    {
     "data": {
      "text/html": [
       "<table class=\"simpletable\">\n",
       "<tr>\n",
       "    <td></td>       <th>coef</th>     <th>std err</th>      <th>t</th>      <th>P>|t|</th>  <th>[0.025</th>    <th>0.975]</th>  \n",
       "</tr>\n",
       "<tr>\n",
       "  <th>const</th> <td>    7.0326</td> <td>    0.458</td> <td>   15.360</td> <td> 0.000</td> <td>    6.130</td> <td>    7.935</td>\n",
       "</tr>\n",
       "<tr>\n",
       "  <th>TV</th>    <td>    0.0475</td> <td>    0.003</td> <td>   17.668</td> <td> 0.000</td> <td>    0.042</td> <td>    0.053</td>\n",
       "</tr>\n",
       "</table>"
      ],
      "text/plain": [
       "<class 'statsmodels.iolib.table.SimpleTable'>"
      ]
     },
     "execution_count": 4,
     "metadata": {},
     "output_type": "execute_result"
    }
   ],
   "source": [
    "reg.summary().tables[1]"
   ]
  },
  {
   "cell_type": "markdown",
   "metadata": {},
   "source": [
    "## Plotting the Fit"
   ]
  },
  {
   "cell_type": "markdown",
   "metadata": {},
   "source": [
    "The `sm.OLS()` function calculates all kind of regression-related results. All this information is attached to the `reg` object. For example to plot the data we would need the model's fitted values. These can be accessed by combining the regression variable/object with the attribute `.fittedvalues` as in `reg.fittedvalues`. In below plot it is shown how this can be of use. We plot the data and fit using the standard plotting functions."
   ]
  },
  {
   "cell_type": "code",
   "execution_count": 5,
   "metadata": {
    "scrolled": false
   },
   "outputs": [
    {
     "data": {
      "image/png": "[encoded data removed]",
      "text/plain": [
       "<matplotlib.figure.Figure at 0x2ddfab5b198>"
      ]
     },
     "metadata": {},
     "output_type": "display_data"
    }
   ],
   "source": [
    "# Plot scatter & lm\n",
    "plt.figure(figsize=(12, 8))\n",
    "plt.scatter(ad.TV, ad.sales, marker='.', label='Sample') # Training data\n",
    "plt.plot(ad.TV, reg.fittedvalues, c='k', label='Fit')  # Linear fit\n",
    "plt.ylabel('Sales')\n",
    "plt.xlabel('TV')\n",
    "plt.legend();"
   ]
  },
  {
   "cell_type": "markdown",
   "metadata": {},
   "source": [
    "Let us plot residuals versus fitted values to do some visual regression diagnostics:"
   ]
  },
  {
   "cell_type": "code",
   "execution_count": 6,
   "metadata": {
    "scrolled": false
   },
   "outputs": [
    {
     "data": {
      "image/png": "[encoded data removed]",
      "text/plain": [
       "<matplotlib.figure.Figure at 0x2ddfafad320>"
      ]
     },
     "metadata": {},
     "output_type": "display_data"
    }
   ],
   "source": [
    "plt.figure(figsize=(12, 8))\n",
    "plt.scatter(ad.TV, reg.resid)\n",
    "plt.axhline(y=0, c='k')  #Black horizontal line at 0\n",
    "plt.xlabel('TV (fitted)')\n",
    "plt.ylabel('Residuals');"
   ]
  },
  {
   "cell_type": "markdown",
   "metadata": {},
   "source": [
    "The above two plots are just standard `matplotlib` plots serving the purpose of visual diagnostics. Beyond that, the `statsmodel` package has separate built-in plotting functions suited for visual regression diagnostics. We will not discuss them here but if interested you'll find plenty of sources on the web (e.g. [here](http://www.statsmodels.org/dev/examples/notebooks/generated/regression_plots.html), [here](http://www.statsmodels.org/stable/graphics.html) or [here](http://mpastell.com/2013/04/19/python_regression/))"
   ]
  },
  {
   "cell_type": "markdown",
   "metadata": {},
   "source": [
    "## Accessing the Output\n",
    "\n",
    "The `reg` object contains a ton of information which you can all access. To see what there is, type `reg.` and press tab. Two examples are shown below. Notice that some are attributes (like `x.shape`, `x.size`) and do not need paranthesis to call them. Others are methods (similar to `.sum()`, `.min()`) and require parenthesis."
   ]
  },
  {
   "cell_type": "code",
   "execution_count": 7,
   "metadata": {
    "scrolled": true
   },
   "outputs": [
    {
     "name": "stdout",
     "output_type": "stream",
     "text": [
      "const    7.032594\n",
      "TV       0.047537\n",
      "dtype: float64 \n",
      "\n",
      "0    4.129225\n",
      "1    1.252026\n",
      "2    1.449776\n",
      "3    4.265605\n",
      "4   -2.727218\n",
      "dtype: float64\n"
     ]
    }
   ],
   "source": [
    "# Regression coefficients\n",
    "print(reg.params, '\\n')\n",
    "print(reg.resid.head())"
   ]
  },
  {
   "cell_type": "markdown",
   "metadata": {},
   "source": [
    "# Confidence Intervals & Hypthesis Testing\n",
    "\n",
    "The 95%-confidence interval (CI) is printed in the summary above. If one wishes to calculate it for a different significance level (`alpha`), it is done as follows:"
   ]
  },
  {
   "cell_type": "code",
   "execution_count": 8,
   "metadata": {
    "scrolled": true
   },
   "outputs": [
    {
     "data": {
      "text/html": [
       "<div>\n",
       "<style>\n",
       "    .dataframe thead tr:only-child th {\n",
       "        text-align: right;\n",
       "    }\n",
       "\n",
       "    .dataframe thead th {\n",
       "        text-align: left;\n",
       "    }\n",
       "\n",
       "    .dataframe tbody tr th {\n",
       "        vertical-align: top;\n",
       "    }\n",
       "</style>\n",
       "<table border=\"1\" class=\"dataframe\">\n",
       "  <thead>\n",
       "    <tr style=\"text-align: right;\">\n",
       "      <th></th>\n",
       "      <th>0</th>\n",
       "      <th>1</th>\n",
       "    </tr>\n",
       "  </thead>\n",
       "  <tbody>\n",
       "    <tr>\n",
       "      <th>const</th>\n",
       "      <td>5.841796</td>\n",
       "      <td>8.223391</td>\n",
       "    </tr>\n",
       "    <tr>\n",
       "      <th>TV</th>\n",
       "      <td>0.040539</td>\n",
       "      <td>0.054535</td>\n",
       "    </tr>\n",
       "  </tbody>\n",
       "</table>\n",
       "</div>"
      ],
      "text/plain": [
       "              0         1\n",
       "const  5.841796  8.223391\n",
       "TV     0.040539  0.054535"
      ]
     },
     "execution_count": 8,
     "metadata": {},
     "output_type": "execute_result"
    }
   ],
   "source": [
    "# 99% CI (alpha = 1%) based on t-distribution\n",
    "reg.conf_int(alpha=0.01)"
   ]
  },
  {
   "cell_type": "markdown",
   "metadata": {},
   "source": [
    "The regression summary provides $t$-statistic and p-value for the null hypothesis $H_0: \\hat{\\beta}_j = 0$, $H_a: \\hat{\\beta}_j \\neq 0$. You can call the resulting $t$-statistic and p-value with its attributes."
   ]
  },
  {
   "cell_type": "code",
   "execution_count": 9,
   "metadata": {
    "scrolled": true
   },
   "outputs": [
    {
     "name": "stdout",
     "output_type": "stream",
     "text": [
      "const    15.360275\n",
      "TV       17.667626\n",
      "dtype: float64 \n",
      "\n",
      "const    1.406300e-35\n",
      "TV       1.467390e-42\n",
      "dtype: float64\n"
     ]
    }
   ],
   "source": [
    "print(reg.tvalues, '\\n')\n",
    "print(reg.pvalues)"
   ]
  },
  {
   "cell_type": "markdown",
   "metadata": {},
   "source": [
    "If you wish to test a different null hypothesis, e.g. $H_0: \\hat{\\beta}_{TV} = 0.054$ vs. $H_1: \\hat{\\beta}_{TV} \\neq 0.054$ use the following code:"
   ]
  },
  {
   "cell_type": "code",
   "execution_count": 10,
   "metadata": {
    "scrolled": true
   },
   "outputs": [
    {
     "data": {
      "text/plain": [
       "<class 'statsmodels.stats.contrast.ContrastResults'>\n",
       "                             Test for Constraints                             \n",
       "==============================================================================\n",
       "                 coef    std err          t      P>|t|      [0.025      0.975]\n",
       "------------------------------------------------------------------------------\n",
       "c0             0.0475      0.003     -2.402      0.017       0.042       0.053\n",
       "=============================================================================="
      ]
     },
     "execution_count": 10,
     "metadata": {},
     "output_type": "execute_result"
    }
   ],
   "source": [
    "reg.t_test('TV=0.054')"
   ]
  },
  {
   "cell_type": "markdown",
   "metadata": {},
   "source": [
    "As far as I know, `Statsmodels` does not provide a function to calculate 'greater than' or 'smaller than' alternative hypothesis. Reason being: because with symmetric distributions, the one-sided test can be derived from the two-sided test. A one-sided p-value is just half of the two-sided p-value. This means that given p and $t$ values from a two-tailed test, you would reject the null hypothesis of a greater-than test when p/2 < alpha and $t$ > 0, and of a less-than test when p/2 < alpha and $t$ < 0."
   ]
  },
  {
   "cell_type": "markdown",
   "metadata": {},
   "source": [
    "## Coefficient of Determination\n",
    "\n",
    "The $R^2$ measure, or \"coefficient of determination\", displays the proportion of the variability in $y$ that is well explained by the regression fit. It is defined as \n",
    "\n",
    "$$\\begin{equation}\n",
    "R^2 = \\frac{TSS - SSR}{TSS} = 1 - \\frac{SSR}{TSS}\n",
    "\\end{equation}$$\n",
    "\n",
    "where TSS is the *total sum of squares*, defined as $TSS = \\sum (y_i - \\bar{y})^2$, and SSR is the *sum of squared residuals*, given by $SSR = \\sum (y_i - \\hat{y}_i)^2$.\n",
    "\n",
    "It is easy to call the $R^2$ value from the regression object `reg` as the following line shows."
   ]
  },
  {
   "cell_type": "code",
   "execution_count": 11,
   "metadata": {},
   "outputs": [
    {
     "data": {
      "text/plain": [
       "0.61187505085007099"
      ]
     },
     "execution_count": 11,
     "metadata": {},
     "output_type": "execute_result"
    }
   ],
   "source": [
    "# R squared measure\n",
    "reg.rsquared"
   ]
  },
  {
   "cell_type": "markdown",
   "metadata": {},
   "source": [
    "## Regression Diagnostics\n",
    "### Test of Homoskedasticity\n",
    "\n",
    "In general we assume a constant variance of the error term (homoskedasticity; $Var(\\epsilon_i) = \\sigma^2$ for $i = 1, \\ldots, N$). From the residuals vs. fitted plot we have to question this assumption. To test it mathematically, you can run a heteroskedasticity test. The stats package offers several test options; the more common ones are White's or the one from Breusch-Pagan. See [here for more details](http://www.statsmodels.org/dev/diagnostic.html) on tests on heteroskedasticity.\n",
    "\n",
    "Below the White test is applied as an example. The parameter 'reg.model.exog' simply contains the matrix X (here it is a [200 x 2] matrix with constant 1 in first column and values for TV in second). The output should become more clear when you check the function's help page (use `?sm.stats.diagnostic.het_white`). \n",
    "\n",
    "The null hypothesis is that the error variance does **not** depend on X, thus is homoskedastic. Based on the large f-statistic value we can gently reject the null-hypothesis that the error variance is homoskedastic."
   ]
  },
  {
   "cell_type": "code",
   "execution_count": 12,
   "metadata": {
    "scrolled": true
   },
   "outputs": [
    {
     "name": "stdout",
     "output_type": "stream",
     "text": [
      "f-statistic:             35.1683 \n",
      "p-value for f-statistic:  0.0000\n"
     ]
    }
   ],
   "source": [
    "# Test for heteroskedasticity with White test\n",
    "wht = sm.stats.diagnostic.het_white(resid=reg.resid, exog=reg.model.exog)\n",
    "print('f-statistic: {0:>19.4f} \\n'\n",
    "      'p-value for f-statistic: {1:>7.4f}'.format(wht[2], wht[3]))"
   ]
  },
  {
   "cell_type": "markdown",
   "metadata": {},
   "source": [
    "If you wish to run tests with heteroskedastistic robust standard errors you can either access the `reg` object's robust standard errors (`reg.HC0_se`, `reg.HC1_se`, `reg.HC2_se`, `reg.HC3_se`) or, more conveniently, directly define the covariance estimator (e.g. 'HC3' as below) when you generate the object in the first place. Below example shows how you can do this. See also [here](http://www.statsmodels.org/dev/generated/statsmodels.regression.linear_model.RegressionResults.html) or [here](https://stackoverflow.com/questions/30553838/getting-statsmodels-to-use-heteroskedasticity-corrected-standard-errors-in-coeff) for some further information."
   ]
  },
  {
   "cell_type": "code",
   "execution_count": 13,
   "metadata": {},
   "outputs": [
    {
     "name": "stdout",
     "output_type": "stream",
     "text": [
      "const    0.336426\n",
      "TV       0.002890\n",
      "dtype: float64 \n",
      "\n",
      "const    0.336426\n",
      "TV       0.002890\n",
      "dtype: float64\n"
     ]
    }
   ],
   "source": [
    "regRobust = sm.OLS(ad.sales, exog=sm.add_constant(ad.TV)).fit(cov_type='HC3')\n",
    "print(regRobust.HC3_se, '\\n')\n",
    "print(reg.HC3_se)"
   ]
  },
  {
   "cell_type": "markdown",
   "metadata": {},
   "source": [
    "### Other Relevant Checks\n",
    "\n",
    "The `statsmodels` package offers many more functions to run regression diagnostics, e.g. checks for autocorrelation, non-linearity, normality of residuals etc. These functions are applicable to both simple as well as multiple linear regression models. There's a short [Jupyther notebook](http://www.statsmodels.org/dev/examples/notebooks/generated/regression_diagnostics.html) detailing some of the options. "
   ]
  },
  {
   "cell_type": "markdown",
   "metadata": {},
   "source": [
    " "
   ]
  },
  {
   "cell_type": "markdown",
   "metadata": {},
   "source": [
    "## Application: Stock Beta\n",
    "\n",
    "A stock beta measures the systematic risk of a security, the tendency of a security to respond to swings in the broad market. Typically, a large, well diversified index is taken as a proxy for the market portfolio (e.g. S&P500, Euro Stoxx 50, SPI, etc.). There are different ways to calculate a stock beta. We will show the regression approach, where a stock's beta is the slope of the following linear regression:\n",
    "\n",
    "$$\\begin{equation}\n",
    "r - r_f = \\alpha + \\beta(r_M - r_f) + e\n",
    "\\end{equation}$$\n",
    "\n",
    "Let us look into Geberit's stock beta. As a proxy for the market portfolio we use the Swiss market index (SMI). The risk free rate is set to $r_f=0$, which is a fairly reasonable approach in light of [the Swiss national bank's (SNB) interest rates](https://data.snb.ch/de/topics/ziredev#!/cube/zimoma) for the past five years (at the time of this writing in 2017/2018). We will work with monthly returns for the past five years (60 months) - though other approaches (e.g. last 24 monthly returns, weekly returns for last 2 years, etc.) are reasonable choices too. The stock and SMI data we will load from a csv that was sourced through a financial data provider."
   ]
  },
  {
   "cell_type": "code",
   "execution_count": 14,
   "metadata": {
    "scrolled": false
   },
   "outputs": [
    {
     "data": {
      "text/html": [
       "<div>\n",
       "<style>\n",
       "    .dataframe thead tr:only-child th {\n",
       "        text-align: right;\n",
       "    }\n",
       "\n",
       "    .dataframe thead th {\n",
       "        text-align: left;\n",
       "    }\n",
       "\n",
       "    .dataframe tbody tr th {\n",
       "        vertical-align: top;\n",
       "    }\n",
       "</style>\n",
       "<table border=\"1\" class=\"dataframe\">\n",
       "  <thead>\n",
       "    <tr style=\"text-align: right;\">\n",
       "      <th></th>\n",
       "      <th>ABBN</th>\n",
       "      <th>ADEN</th>\n",
       "      <th>BAER</th>\n",
       "      <th>CFR</th>\n",
       "      <th>CSGN</th>\n",
       "      <th>GEBN</th>\n",
       "      <th>GIVN</th>\n",
       "      <th>LHN</th>\n",
       "      <th>LONN</th>\n",
       "      <th>NESN</th>\n",
       "      <th>...</th>\n",
       "      <th>ROG</th>\n",
       "      <th>SCMN</th>\n",
       "      <th>SGSN</th>\n",
       "      <th>SLHN</th>\n",
       "      <th>SREN</th>\n",
       "      <th>UBSG</th>\n",
       "      <th>UHR</th>\n",
       "      <th>ZURN</th>\n",
       "      <th>SIK</th>\n",
       "      <th>SMI</th>\n",
       "    </tr>\n",
       "    <tr>\n",
       "      <th>Date</th>\n",
       "      <th></th>\n",
       "      <th></th>\n",
       "      <th></th>\n",
       "      <th></th>\n",
       "      <th></th>\n",
       "      <th></th>\n",
       "      <th></th>\n",
       "      <th></th>\n",
       "      <th></th>\n",
       "      <th></th>\n",
       "      <th></th>\n",
       "      <th></th>\n",
       "      <th></th>\n",
       "      <th></th>\n",
       "      <th></th>\n",
       "      <th></th>\n",
       "      <th></th>\n",
       "      <th></th>\n",
       "      <th></th>\n",
       "      <th></th>\n",
       "      <th></th>\n",
       "    </tr>\n",
       "  </thead>\n",
       "  <tbody>\n",
       "    <tr>\n",
       "      <th>2018-01-31</th>\n",
       "      <td>25.95</td>\n",
       "      <td>76.60</td>\n",
       "      <td>63.9</td>\n",
       "      <td>89.32</td>\n",
       "      <td>17.96</td>\n",
       "      <td>441.0</td>\n",
       "      <td>2240.0</td>\n",
       "      <td>57.00</td>\n",
       "      <td>258.9</td>\n",
       "      <td>80.42</td>\n",
       "      <td>...</td>\n",
       "      <td>229.45</td>\n",
       "      <td>508.4</td>\n",
       "      <td>2503</td>\n",
       "      <td>349.5</td>\n",
       "      <td>91.80</td>\n",
       "      <td>18.90</td>\n",
       "      <td>426.5</td>\n",
       "      <td>305.9</td>\n",
       "      <td>8065</td>\n",
       "      <td>9335.40</td>\n",
       "    </tr>\n",
       "    <tr>\n",
       "      <th>2017-12-29</th>\n",
       "      <td>26.12</td>\n",
       "      <td>74.55</td>\n",
       "      <td>59.6</td>\n",
       "      <td>88.30</td>\n",
       "      <td>17.40</td>\n",
       "      <td>429.1</td>\n",
       "      <td>2252.0</td>\n",
       "      <td>54.95</td>\n",
       "      <td>263.3</td>\n",
       "      <td>83.80</td>\n",
       "      <td>...</td>\n",
       "      <td>246.50</td>\n",
       "      <td>518.5</td>\n",
       "      <td>2541</td>\n",
       "      <td>345.0</td>\n",
       "      <td>91.25</td>\n",
       "      <td>17.94</td>\n",
       "      <td>397.4</td>\n",
       "      <td>296.6</td>\n",
       "      <td>7740</td>\n",
       "      <td>9381.87</td>\n",
       "    </tr>\n",
       "    <tr>\n",
       "      <th>2017-11-30</th>\n",
       "      <td>25.19</td>\n",
       "      <td>74.40</td>\n",
       "      <td>57.8</td>\n",
       "      <td>84.70</td>\n",
       "      <td>16.66</td>\n",
       "      <td>427.8</td>\n",
       "      <td>2238.0</td>\n",
       "      <td>53.80</td>\n",
       "      <td>257.1</td>\n",
       "      <td>84.25</td>\n",
       "      <td>...</td>\n",
       "      <td>248.20</td>\n",
       "      <td>519.0</td>\n",
       "      <td>2432</td>\n",
       "      <td>330.2</td>\n",
       "      <td>92.20</td>\n",
       "      <td>16.99</td>\n",
       "      <td>358.7</td>\n",
       "      <td>297.2</td>\n",
       "      <td>7600</td>\n",
       "      <td>9318.77</td>\n",
       "    </tr>\n",
       "    <tr>\n",
       "      <th>2017-10-31</th>\n",
       "      <td>26.08</td>\n",
       "      <td>79.15</td>\n",
       "      <td>59.0</td>\n",
       "      <td>92.00</td>\n",
       "      <td>15.73</td>\n",
       "      <td>451.6</td>\n",
       "      <td>2228.0</td>\n",
       "      <td>56.35</td>\n",
       "      <td>265.0</td>\n",
       "      <td>83.90</td>\n",
       "      <td>...</td>\n",
       "      <td>230.50</td>\n",
       "      <td>504.0</td>\n",
       "      <td>2464</td>\n",
       "      <td>346.8</td>\n",
       "      <td>93.85</td>\n",
       "      <td>16.98</td>\n",
       "      <td>391.0</td>\n",
       "      <td>304.5</td>\n",
       "      <td>7385</td>\n",
       "      <td>9242.18</td>\n",
       "    </tr>\n",
       "    <tr>\n",
       "      <th>2017-09-29</th>\n",
       "      <td>23.94</td>\n",
       "      <td>75.40</td>\n",
       "      <td>57.3</td>\n",
       "      <td>88.50</td>\n",
       "      <td>15.33</td>\n",
       "      <td>458.1</td>\n",
       "      <td>2107.0</td>\n",
       "      <td>56.60</td>\n",
       "      <td>254.0</td>\n",
       "      <td>81.10</td>\n",
       "      <td>...</td>\n",
       "      <td>247.20</td>\n",
       "      <td>496.2</td>\n",
       "      <td>2323</td>\n",
       "      <td>341.1</td>\n",
       "      <td>87.70</td>\n",
       "      <td>16.55</td>\n",
       "      <td>402.8</td>\n",
       "      <td>295.4</td>\n",
       "      <td>7205</td>\n",
       "      <td>9157.46</td>\n",
       "    </tr>\n",
       "  </tbody>\n",
       "</table>\n",
       "<p>5 rows × 21 columns</p>\n",
       "</div>"
      ],
      "text/plain": [
       "             ABBN   ADEN  BAER    CFR   CSGN   GEBN    GIVN    LHN   LONN  \\\n",
       "Date                                                                        \n",
       "2018-01-31  25.95  76.60  63.9  89.32  17.96  441.0  2240.0  57.00  258.9   \n",
       "2017-12-29  26.12  74.55  59.6  88.30  17.40  429.1  2252.0  54.95  263.3   \n",
       "2017-11-30  25.19  74.40  57.8  84.70  16.66  427.8  2238.0  53.80  257.1   \n",
       "2017-10-31  26.08  79.15  59.0  92.00  15.73  451.6  2228.0  56.35  265.0   \n",
       "2017-09-29  23.94  75.40  57.3  88.50  15.33  458.1  2107.0  56.60  254.0   \n",
       "\n",
       "             NESN   ...        ROG   SCMN  SGSN   SLHN   SREN   UBSG    UHR  \\\n",
       "Date                ...                                                       \n",
       "2018-01-31  80.42   ...     229.45  508.4  2503  349.5  91.80  18.90  426.5   \n",
       "2017-12-29  83.80   ...     246.50  518.5  2541  345.0  91.25  17.94  397.4   \n",
       "2017-11-30  84.25   ...     248.20  519.0  2432  330.2  92.20  16.99  358.7   \n",
       "2017-10-31  83.90   ...     230.50  504.0  2464  346.8  93.85  16.98  391.0   \n",
       "2017-09-29  81.10   ...     247.20  496.2  2323  341.1  87.70  16.55  402.8   \n",
       "\n",
       "             ZURN   SIK      SMI  \n",
       "Date                              \n",
       "2018-01-31  305.9  8065  9335.40  \n",
       "2017-12-29  296.6  7740  9381.87  \n",
       "2017-11-30  297.2  7600  9318.77  \n",
       "2017-10-31  304.5  7385  9242.18  \n",
       "2017-09-29  295.4  7205  9157.46  \n",
       "\n",
       "[5 rows x 21 columns]"
      ]
     },
     "execution_count": 14,
     "metadata": {},
     "output_type": "execute_result"
    }
   ],
   "source": [
    "df = pd.read_csv('Data/SMIDataMonthly.csv', sep=',',\n",
    "                 parse_dates=['Date'], dayfirst=True,\n",
    "                 index_col=['Date'])\n",
    "df.head()"
   ]
  },
  {
   "cell_type": "markdown",
   "metadata": {},
   "source": [
    "The dataframe `df` contains monthly closing prices on all SMI-stocks (incl. SMI index) with a date index in descending order. Let us create a separate Pandas dataframe with the returns of the past 60 months (`dfRets`) for both GEBN as well as the index."
   ]
  },
  {
   "cell_type": "code",
   "execution_count": 15,
   "metadata": {
    "scrolled": true
   },
   "outputs": [
    {
     "name": "stdout",
     "output_type": "stream",
     "text": [
      "            GEBNrets   SMIrets\n",
      "Date                          \n",
      "2018-01-31  0.027355 -0.004965\n",
      "2017-12-29  0.003034  0.006748\n",
      "2017-11-30 -0.054141  0.008253\n",
      "2017-10-31 -0.014291  0.009209\n",
      "2017-09-29  0.044640  0.025662\n"
     ]
    }
   ],
   "source": [
    "# Calculate returns and assign to variable dfRets\n",
    "dfRets = pd.DataFrame()\n",
    "dfRets['GEBNrets'] = np.log(df['GEBN'] / df['GEBN'].shift(-1))\n",
    "dfRets['SMIrets'] = np.log(df['SMI'] / df['SMI'].shift(-1))\n",
    "print(dfRets.head())"
   ]
  },
  {
   "cell_type": "markdown",
   "metadata": {},
   "source": [
    "Having done that, we are already set to run the regression and print the results. "
   ]
  },
  {
   "cell_type": "code",
   "execution_count": 16,
   "metadata": {},
   "outputs": [
    {
     "name": "stdout",
     "output_type": "stream",
     "text": [
      "                            OLS Regression Results                            \n",
      "==============================================================================\n",
      "Dep. Variable:               GEBNrets   R-squared:                       0.311\n",
      "Model:                            OLS   Adj. R-squared:                  0.300\n",
      "Method:                 Least Squares   F-statistic:                     26.23\n",
      "Date:                Fri, 28 Dec 2018   Prob (F-statistic):           3.62e-06\n",
      "Time:                        15:37:06   Log-Likelihood:                 107.89\n",
      "No. Observations:                  60   AIC:                            -211.8\n",
      "Df Residuals:                      58   BIC:                            -207.6\n",
      "Df Model:                           1                                         \n",
      "Covariance Type:            nonrobust                                         \n",
      "==============================================================================\n",
      "                 coef    std err          t      P>|t|      [0.025      0.975]\n",
      "------------------------------------------------------------------------------\n",
      "const          0.0086      0.005      1.617      0.111      -0.002       0.019\n",
      "SMIrets        0.9156      0.179      5.121      0.000       0.558       1.273\n",
      "==============================================================================\n",
      "Omnibus:                        4.808   Durbin-Watson:                   2.225\n",
      "Prob(Omnibus):                  0.090   Jarque-Bera (JB):                4.204\n",
      "Skew:                           0.405   Prob(JB):                        0.122\n",
      "Kurtosis:                       4.013   Cond. No.                         34.0\n",
      "==============================================================================\n",
      "\n",
      "Warnings:\n",
      "[1] Standard Errors assume that the covariance matrix of the errors is correctly specified.\n"
     ]
    }
   ],
   "source": [
    "# Set observation period (last 60 monthly returns)\n",
    "months = 60\n",
    "\n",
    "# Create OLS object, run regression and calculate fit\n",
    "regBeta = sm.OLS(endog=dfRets.iloc[:months, 0], \n",
    "                 exog=sm.add_constant(dfRets.iloc[:months, 1])).fit()\n",
    "\n",
    "# Show table on coefficients\n",
    "print(regBeta.summary())"
   ]
  },
  {
   "cell_type": "markdown",
   "metadata": {},
   "source": [
    "Based on the regression output we have no reason to reject the null of Geberit's stock beta being equal to zero. The $R^2$ measure, though, shows that only a small portion of the variation in Geberits monthly returns is explained by SMI's monthly returns."
   ]
  },
  {
   "cell_type": "code",
   "execution_count": 17,
   "metadata": {},
   "outputs": [
    {
     "data": {
      "image/png": "[encoded data removed]",
      "text/plain": [
       "<matplotlib.figure.Figure at 0x2ddfb02a128>"
      ]
     },
     "metadata": {},
     "output_type": "display_data"
    }
   ],
   "source": [
    "# Get relevant information\n",
    "beta = regBeta.params['SMIrets']\n",
    "alpha = regBeta.params[\"const\"]\n",
    "rsqr = regBeta.rsquared\n",
    "\n",
    "# Plot scatter & lm; add text with alpha, beta , R2\n",
    "plt.figure(figsize=(12, 8))\n",
    "plt.scatter(dfRets.iloc[:months, 0], \n",
    "            dfRets.iloc[:months, 1], \n",
    "            marker='.', label='Monthly Returns')\n",
    "plt.plot(dfRets.iloc[:months, 1], regBeta.fittedvalues, c='k', label='Fit')\n",
    "plt.axis('equal')\n",
    "plt.ylabel('Geberit Monthly Returns')\n",
    "plt.xlabel('SMI Monthly Returns')\n",
    "plt.legend(loc='lower right')\n",
    "plt.text(-0.07, 0.06, 'Beta: {0: .2f}'.format(beta))\n",
    "plt.text(-0.07, 0.05, 'Alpha: {0: .2f}'.format(alpha))\n",
    "plt.text(-0.07, 0.04, 'R^2: {0: .2f}'.format(rsqr));"
   ]
  },
  {
   "cell_type": "markdown",
   "metadata": {},
   "source": [
    "What we calculated above is often referred to as the raw beta. The beta value of a stock has been found to be on average closer to the mean value of 1.0, the beta of an average-systematic-risk portfolio, than to the value of the raw beta (Pinto et al. (2016)). This is why data providers such as Bloomberg publish the adjusted beta as first introduced by Blume (1971), which is calculated as \n",
    "\n",
    "$$ \\text{Adjusted beta} = 2/3 \\cdot \\text{raw beta} + 1/3 \\cdot 1$$\n",
    "\n",
    "Now, let us assume we are given the task to investigate whether a beta indeed regresses to 1 over time. For that we could, as a starting point, assess a stock's rolling beta over the past years. Note that this is just an example of use. Computationally it would be much faster to calculate the stock beta via the covariance/variance formula."
   ]
  },
  {
   "cell_type": "code",
   "execution_count": 18,
   "metadata": {
    "collapsed": true
   },
   "outputs": [],
   "source": [
    "def rollingBeta(df, window=60):\n",
    "    \n",
    "    '''Calculates the running beta of a stock.\n",
    "    \n",
    "    Parameters\n",
    "    ==========\n",
    "    df : [n x 2] pandas dataframe with log-returns for\n",
    "        stock and market portfolio. Index should be\n",
    "        datetime series.\n",
    "    window : rolling window with default value 60 [optional]\n",
    "        \n",
    "    Returns\n",
    "    =======\n",
    "    rb : Pandas dataframe with (backward-looking) rolling beta. \n",
    "    '''\n",
    "    \n",
    "    # Drop NA rows from df\n",
    "    df = df.dropna()\n",
    "    # Set up empty results array\n",
    "    res = np.empty(len(df) - window + 1)\n",
    "    \n",
    "    # Loop through df\n",
    "    for i in range(0, len(df)):\n",
    "        \n",
    "        # As long as remaining subset is >= window, we proceed\n",
    "        if (len(df) - i) >= window:\n",
    "            \n",
    "            # Subset df\n",
    "            sub = df.iloc[i:window+i, :]\n",
    "            # Run Regression\n",
    "            model = sm.OLS(endog=sub.iloc[:, 0],\n",
    "                           exog=sm.add_constant(sub.iloc[:, 1])).fit()\n",
    "            # Read out beta coefficient\n",
    "            res[i] = model.params[1]\n",
    "    \n",
    "    # Format output to dataframe\n",
    "    rb = pd.DataFrame(data=res, index=df.index[:(len(df)-window+1)])\n",
    "    rb.columns = ['RollingBeta']\n",
    "    \n",
    "    return rb"
   ]
  },
  {
   "cell_type": "markdown",
   "metadata": {},
   "source": [
    "Now we are ready to call the function. This time we use the last two years of monthly returns. Thus we set `window=24` to overwrite the default value of 60."
   ]
  },
  {
   "cell_type": "code",
   "execution_count": 19,
   "metadata": {
    "collapsed": true
   },
   "outputs": [],
   "source": [
    "# Call function and save output to 'rollBeta'\n",
    "rollBeta = rollingBeta(df=dfRets, window=24)"
   ]
  },
  {
   "cell_type": "markdown",
   "metadata": {},
   "source": [
    "Though this is far away from a thorough analysis, plotting the results shows that at least in Geberit's case, there is indeed some truth to the assessment, that the beta exhibits some reversion to the market beta value of 1."
   ]
  },
  {
   "cell_type": "code",
   "execution_count": 20,
   "metadata": {
    "scrolled": false
   },
   "outputs": [
    {
     "data": {
      "image/png": "[encoded data removed]",
      "text/plain": [
       "<matplotlib.figure.Figure at 0x2ddfafad048>"
      ]
     },
     "metadata": {},
     "output_type": "display_data"
    }
   ],
   "source": [
    "# Import 'mdates' library to format dates in x-axis\n",
    "import matplotlib.dates as mdates\n",
    "\n",
    "# Plot rolling beta\n",
    "fig, ax = plt.subplots(1, figsize=(12, 8))\n",
    "ax.plot(rollBeta, label='Geberit Rolling Beta')\n",
    "ax.axhline(y=1, c='gray', linestyle=':')  # Horizontal line\n",
    "ax.legend(fontsize=12)\n",
    "ax.xaxis.set_major_locator(mdates.MonthLocator(interval=6))\n",
    "ax.xaxis.set_major_formatter(mdates.DateFormatter('%m-%Y'))\n",
    "fig.autofmt_xdate();  # Autorotate x-axis for readability"
   ]
  },
  {
   "cell_type": "markdown",
   "metadata": {},
   "source": [
    " "
   ]
  },
  {
   "cell_type": "markdown",
   "metadata": {},
   "source": [
    "# Multiple Linear Regression"
   ]
  },
  {
   "cell_type": "markdown",
   "metadata": {
    "collapsed": true
   },
   "source": [
    "## Estimating the Regression Coefficients\n",
    "\n",
    "Simple linear regression serves well to introduce the concept and to build a good understanding. However, in reality we often have to work with more than one predictor. In the advertising data set for example we had not only data on TV advertising spendings but also on radio newspaper. It thus makes sense to extend the simple to a multiple linear regression model.\n",
    "\n",
    "We again use the Advertising data set to see how this is done in Python. The same functions from the `statsmodels` package apply to multiple linear regression. We run the following regression\n",
    "\n",
    "$$\\text{sales} = \\beta_0 + \\beta_1 \\text{TV} + \\beta_2 \\text{radio} + \\beta_3 \\text{newspaper} + \\epsilon$$"
   ]
  },
  {
   "cell_type": "code",
   "execution_count": 21,
   "metadata": {
    "collapsed": true
   },
   "outputs": [],
   "source": [
    "# Assign features and response to X and y\n",
    "y = ad.sales\n",
    "X = ad[['TV', 'radio', 'newspaper']]\n",
    "X = sm.add_constant(X)"
   ]
  },
  {
   "cell_type": "code",
   "execution_count": 22,
   "metadata": {
    "scrolled": false
   },
   "outputs": [
    {
     "name": "stdout",
     "output_type": "stream",
     "text": [
      "                            OLS Regression Results                            \n",
      "==============================================================================\n",
      "Dep. Variable:                  sales   R-squared:                       0.897\n",
      "Model:                            OLS   Adj. R-squared:                  0.896\n",
      "Method:                 Least Squares   F-statistic:                     570.3\n",
      "Date:                Fri, 28 Dec 2018   Prob (F-statistic):           1.58e-96\n",
      "Time:                        15:37:07   Log-Likelihood:                -386.18\n",
      "No. Observations:                 200   AIC:                             780.4\n",
      "Df Residuals:                     196   BIC:                             793.6\n",
      "Df Model:                           3                                         \n",
      "Covariance Type:            nonrobust                                         \n",
      "==============================================================================\n",
      "                 coef    std err          t      P>|t|      [0.025      0.975]\n",
      "------------------------------------------------------------------------------\n",
      "const          2.9389      0.312      9.422      0.000       2.324       3.554\n",
      "TV             0.0458      0.001     32.809      0.000       0.043       0.049\n",
      "radio          0.1885      0.009     21.893      0.000       0.172       0.206\n",
      "newspaper     -0.0010      0.006     -0.177      0.860      -0.013       0.011\n",
      "==============================================================================\n",
      "Omnibus:                       60.414   Durbin-Watson:                   2.084\n",
      "Prob(Omnibus):                  0.000   Jarque-Bera (JB):              151.241\n",
      "Skew:                          -1.327   Prob(JB):                     1.44e-33\n",
      "Kurtosis:                       6.332   Cond. No.                         454.\n",
      "==============================================================================\n",
      "\n",
      "Warnings:\n",
      "[1] Standard Errors assume that the covariance matrix of the errors is correctly specified.\n"
     ]
    }
   ],
   "source": [
    "# Run regression and print summary\n",
    "mlReg = sm.OLS(endog=y, exog=X).fit()\n",
    "print(mlReg.summary())"
   ]
  },
  {
   "cell_type": "markdown",
   "metadata": {},
   "source": [
    "The coefficient for radio (0.1885) tells us, that - holding all other factors fixed - an additional 1'000 dollars in radio advertising spendings will boost the product's sales by 188.5 units."
   ]
  },
  {
   "cell_type": "markdown",
   "metadata": {},
   "source": [
    "Again: If you are an `R` guy and prefer their syntax, you could import the statsmodels.formula.api subpackage and run something like:\n",
    "\n",
    "> `from statsmodels.formula.api import ols\n",
    "mlReg = ols(\"Sales ~ TV + radio + newspaper\", data=ad).fit()\n",
    "mlReg.summary()`"
   ]
  },
  {
   "cell_type": "markdown",
   "metadata": {},
   "source": [
    "## Hypothesis Tests\n",
    "\n",
    "Again the summary above provides $t$-statistic and p-value for each individual regression coefficient. As was the case for the simple linear regression, the underlying null hypothesis is that each parameter is zero ($H_0: \\beta_{j,\\, H_0} = 0$). For TV and Radio we reject the null even at the 1% significance level. However, given the large p-value for Newspaper we fail to reject the null for $\\beta_{\\text{Newspaper}} = 0$ at any reasonable level. Thus we can conclude that leaving Newspaper data out might be a reasonable option. If other null hypothesis' ought to be tested, we can use the same command as shown above."
   ]
  },
  {
   "cell_type": "code",
   "execution_count": 23,
   "metadata": {},
   "outputs": [
    {
     "data": {
      "text/plain": [
       "<class 'statsmodels.stats.contrast.ContrastResults'>\n",
       "                             Test for Constraints                             \n",
       "==============================================================================\n",
       "                 coef    std err          t      P>|t|      [0.025      0.975]\n",
       "------------------------------------------------------------------------------\n",
       "c0             0.0458      0.001     -1.244      0.215       0.043       0.049\n",
       "=============================================================================="
      ]
     },
     "execution_count": 23,
     "metadata": {},
     "output_type": "execute_result"
    }
   ],
   "source": [
    "# t-test on H0: beta(TV) = 0.0475\n",
    "mlReg.t_test('TV=0.0475')"
   ]
  },
  {
   "cell_type": "markdown",
   "metadata": {},
   "source": [
    "The output shows that we fail to reject the null hypothesis that $\\beta_{TV} = 0.0475$.\n",
    "\n",
    "\n",
    "Beyond the element-wise hypothesis tests the regression summary also provides **F-statistic** (and the corresponding p-value) on the combined hypothesis that \n",
    "\n",
    "$$\\begin{align}\n",
    "H_0&: \\quad \\beta_j = \\beta_1, \\beta_2, \\ldots \\beta_p = 0 \\\\\n",
    "H_a&: \\quad \\beta_j \\neq 0 \\text{ for at least one $j$}\n",
    "\\end{align}$$\n",
    "\n",
    "On the basis of the corresponding p-value (i.e. 1.58e-96) we can reject the null at any reasonable significance level. Should we be interested in assessing a particular hypothesis, say \n",
    "\n",
    "$$\\begin{align}\n",
    "H_0&: \\quad \\beta_{TV} = \\beta_{\\text{Radio}} = 0.1 \\\\\n",
    "H_a&: \\quad \\beta_{TV} \\neq \\beta_{\\text{Radio}} \\neq 0.1\n",
    "\\end{align}$$\n",
    "we use the `.f_test()` method. \n"
   ]
  },
  {
   "cell_type": "code",
   "execution_count": 24,
   "metadata": {
    "scrolled": true
   },
   "outputs": [
    {
     "data": {
      "text/plain": [
       "<class 'statsmodels.stats.contrast.ContrastResults'>\n",
       "<F test: F=array([[ 158.25546736]]), p=1.2308005715598948e-41, df_denom=196, df_num=2>"
      ]
     },
     "execution_count": 24,
     "metadata": {},
     "output_type": "execute_result"
    }
   ],
   "source": [
    "# Test H0: beta(radio) = beta(newspaper) = 0.1\n",
    "mlReg.f_test('radio = newspaper = 0.1')"
   ]
  },
  {
   "cell_type": "markdown",
   "metadata": {},
   "source": [
    "See the [documentation page](http://www.statsmodels.org/dev/generated/statsmodels.regression.linear_model.RegressionResults.f_test.html) for further examples on how this function can be used."
   ]
  },
  {
   "cell_type": "markdown",
   "metadata": {},
   "source": [
    "### Coefficient of Determination\n",
    "\n",
    "The $R^2$ measure for the MLR is the same as for the SLR. However, in the case of MLR it has one drawback: the value will always increase when more explanatory variables are added to the model - even if those variables are only weakly associated with the response. To make good on this disadvantage a modificated measure is often used: **adjusted $R^2$**.\n",
    "\n",
    "$$\\begin{equation}\n",
    "R^2_{adj} = 1 - (1-R^2) \\frac{n-1}{n-p-1}\n",
    "\\end{equation}$$\n",
    "\n",
    "To get this measure in Python, simply use the OLS object and call the `.rsquareed_adj` attribute."
   ]
  },
  {
   "cell_type": "code",
   "execution_count": 25,
   "metadata": {
    "scrolled": true
   },
   "outputs": [
    {
     "data": {
      "text/plain": [
       "0.89563733162046677"
      ]
     },
     "execution_count": 25,
     "metadata": {},
     "output_type": "execute_result"
    }
   ],
   "source": [
    "mlReg.rsquared_adj"
   ]
  },
  {
   "cell_type": "markdown",
   "metadata": {},
   "source": [
    " "
   ]
  },
  {
   "cell_type": "markdown",
   "metadata": {},
   "source": [
    "## Application: Factor Models\n",
    "\n"
   ]
  },
  {
   "cell_type": "markdown",
   "metadata": {},
   "source": [
    "### Fama-French Three Factor Model\n",
    "\n",
    "We will apply the concept of multiple linear regression in the context of Fama-French's three factor model (Fama and French (1993)). Their model follows Ross' arbitrage pricinge theory which postulates that excess returns are linearly related to a set of systematic risk factors (Ross et al. (1973)). The factors can be returns on other assets, such as the market portfolio, or any other variable (e.g. interest rates, inflation, consumption growth, market sentiment, hedging demands etc.. Fama-French empirically discovered three factors to capture the systematic risk: (A) firm size, (B) book-to-market ratio (B/M) and (C) market risk. To quantify their findings, Fama-French constructed zero-net-investment factor portfolios capturing the systematic risk on firm size (factor is labeled 'small minus big' (SMB) and is constructed by going long on small and short on big size stocks) and B/M (labeled 'high minus low' (HML), i.e. going long on high B/M, short on low B/M stocks). The sensitivity of individual stocks to the three factors is then given by the estimated coefficients of a multiple linear regression. As a group the three factors combine for the total risk premium. \n",
    "\n",
    "The expected excess return $R_{it}$ of asset $i$ at time $t$ in the Fama-French three-factor model is described by\n",
    "\n",
    "$$\\begin{equation}\n",
    "R_{it} = \\alpha_i + \\beta_i^{M} (r_{M,t} - r_{f,t}) + \\beta_i^{SMB} SMB_t + \\beta_i^{HML} HML_t + \\epsilon_{it}\n",
    "\\end{equation}$$"
   ]
  },
  {
   "cell_type": "markdown",
   "metadata": {},
   "source": [
    "The above Fama-French factors are calculated on a monthly basis and published on [Kenneth R. French's website](http://mba.tuck.dartmouth.edu/pages/faculty/ken.french/data_library.html). There you will also find information on the methodology of the model and lots of other possible factors besides the three we look into here. To run this regression in Python we use a shortcut. The `pandas_datareader` package is capable of loading the data without having to download a txt or csv file in a separate step. \n",
    "\n",
    "We will calculate the factor beta for all 20 SMI stocks. For that we use Fama-French's 'European 3 Factors' data. Following our 'Stock Beta' example from above and for the sake of simplicity, the risk free rate for Switzerland is again assumed to be zero (wrt. $R_{ij}$)."
   ]
  },
  {
   "cell_type": "markdown",
   "metadata": {
    "collapsed": true
   },
   "source": [
    "### Prepare Data for Fama-French Model\n",
    "We start by importing the `pandas_datareader.data` package and defining some key parameter."
   ]
  },
  {
   "cell_type": "code",
   "execution_count": 26,
   "metadata": {
    "collapsed": true
   },
   "outputs": [],
   "source": [
    "import pandas_datareader as web\n",
    "\n",
    "# Define obs. period, start & enddate\n",
    "months = 60\n",
    "startdate = '2012-06-01'\n",
    "enddate   = '2017-12-31'"
   ]
  },
  {
   "cell_type": "markdown",
   "metadata": {},
   "source": [
    "** Side Note: ** If you want to know what data is available (and their labels), you can run the `get_available_datasets()` function.\n",
    "\n",
    "> `from pandas_datareader.famafrench import get_available_datasets\n",
    "get_available_datasets()`\n",
    "\n",
    "or simply check [Kenneth R. French's website](http://mba.tuck.dartmouth.edu/pages/faculty/ken.french/data_library.html)"
   ]
  },
  {
   "cell_type": "code",
   "execution_count": 27,
   "metadata": {
    "collapsed": true,
    "scrolled": true
   },
   "outputs": [],
   "source": [
    "# Load FF factors \n",
    "data = web.DataReader('Europe_3_Factors', data_source='famafrench',\n",
    "                      start=startdate, end=enddate)"
   ]
  },
  {
   "cell_type": "markdown",
   "metadata": {},
   "source": [
    "Variable `data` is a dictionary with three entries: monhtly data, annual data and a description. We select the monthly rates in dictionary 0 and format the data."
   ]
  },
  {
   "cell_type": "code",
   "execution_count": 28,
   "metadata": {
    "scrolled": true
   },
   "outputs": [
    {
     "name": "stdout",
     "output_type": "stream",
     "text": [
      "         Mkt-RF     SMB     HML      RF\n",
      "Date                                   \n",
      "2017-12  0.0147  0.0156  0.0046  0.0009\n",
      "2017-11 -0.0002 -0.0040  0.0108  0.0008\n",
      "2017-10  0.0060 -0.0090 -0.0020  0.0009\n"
     ]
    }
   ],
   "source": [
    "# Select monthly data\n",
    "ff = data[0]\n",
    "\n",
    "# Sort data in descending order\n",
    "ff = ff.sort_index(ascending=False)\n",
    "\n",
    "# Convert returns to decimal percentages\n",
    "ff = ff/100\n",
    "print(ff.head(3))"
   ]
  },
  {
   "cell_type": "markdown",
   "metadata": {},
   "source": [
    "Next we calculate the log-returns of all SMI stocks. The share prices are taken from dataframe `df` which we loaded above. "
   ]
  },
  {
   "cell_type": "code",
   "execution_count": 29,
   "metadata": {
    "scrolled": false
   },
   "outputs": [
    {
     "data": {
      "text/html": [
       "<div>\n",
       "<style>\n",
       "    .dataframe thead tr:only-child th {\n",
       "        text-align: right;\n",
       "    }\n",
       "\n",
       "    .dataframe thead th {\n",
       "        text-align: left;\n",
       "    }\n",
       "\n",
       "    .dataframe tbody tr th {\n",
       "        vertical-align: top;\n",
       "    }\n",
       "</style>\n",
       "<table border=\"1\" class=\"dataframe\">\n",
       "  <thead>\n",
       "    <tr style=\"text-align: right;\">\n",
       "      <th></th>\n",
       "      <th>ABBN</th>\n",
       "      <th>ADEN</th>\n",
       "      <th>BAER</th>\n",
       "      <th>CFR</th>\n",
       "      <th>CSGN</th>\n",
       "      <th>GEBN</th>\n",
       "      <th>GIVN</th>\n",
       "      <th>LHN</th>\n",
       "      <th>LONN</th>\n",
       "      <th>NESN</th>\n",
       "      <th>NOVN</th>\n",
       "      <th>ROG</th>\n",
       "      <th>SCMN</th>\n",
       "      <th>SGSN</th>\n",
       "      <th>SLHN</th>\n",
       "      <th>SREN</th>\n",
       "      <th>UBSG</th>\n",
       "      <th>UHR</th>\n",
       "      <th>ZURN</th>\n",
       "      <th>SIK</th>\n",
       "    </tr>\n",
       "    <tr>\n",
       "      <th>Date</th>\n",
       "      <th></th>\n",
       "      <th></th>\n",
       "      <th></th>\n",
       "      <th></th>\n",
       "      <th></th>\n",
       "      <th></th>\n",
       "      <th></th>\n",
       "      <th></th>\n",
       "      <th></th>\n",
       "      <th></th>\n",
       "      <th></th>\n",
       "      <th></th>\n",
       "      <th></th>\n",
       "      <th></th>\n",
       "      <th></th>\n",
       "      <th></th>\n",
       "      <th></th>\n",
       "      <th></th>\n",
       "      <th></th>\n",
       "      <th></th>\n",
       "    </tr>\n",
       "  </thead>\n",
       "  <tbody>\n",
       "    <tr>\n",
       "      <th>2017-12-29</th>\n",
       "      <td>0.036254</td>\n",
       "      <td>0.002014</td>\n",
       "      <td>0.030667</td>\n",
       "      <td>0.041625</td>\n",
       "      <td>0.043460</td>\n",
       "      <td>0.003034</td>\n",
       "      <td>0.006236</td>\n",
       "      <td>0.021150</td>\n",
       "      <td>0.023829</td>\n",
       "      <td>-0.005356</td>\n",
       "      <td>-0.021609</td>\n",
       "      <td>-0.006873</td>\n",
       "      <td>-0.000964</td>\n",
       "      <td>0.043844</td>\n",
       "      <td>0.043846</td>\n",
       "      <td>-0.010357</td>\n",
       "      <td>0.054408</td>\n",
       "      <td>0.102457</td>\n",
       "      <td>-0.002021</td>\n",
       "      <td>0.018253</td>\n",
       "    </tr>\n",
       "    <tr>\n",
       "      <th>2017-11-30</th>\n",
       "      <td>-0.034722</td>\n",
       "      <td>-0.061889</td>\n",
       "      <td>-0.020549</td>\n",
       "      <td>-0.082673</td>\n",
       "      <td>0.057441</td>\n",
       "      <td>-0.054141</td>\n",
       "      <td>0.004478</td>\n",
       "      <td>-0.046309</td>\n",
       "      <td>-0.030265</td>\n",
       "      <td>0.004163</td>\n",
       "      <td>0.024040</td>\n",
       "      <td>0.073984</td>\n",
       "      <td>0.029328</td>\n",
       "      <td>-0.013072</td>\n",
       "      <td>-0.049050</td>\n",
       "      <td>-0.017738</td>\n",
       "      <td>0.000589</td>\n",
       "      <td>-0.086221</td>\n",
       "      <td>-0.024266</td>\n",
       "      <td>0.028697</td>\n",
       "    </tr>\n",
       "    <tr>\n",
       "      <th>2017-10-31</th>\n",
       "      <td>0.085618</td>\n",
       "      <td>0.048538</td>\n",
       "      <td>0.029237</td>\n",
       "      <td>0.038786</td>\n",
       "      <td>0.025758</td>\n",
       "      <td>-0.014291</td>\n",
       "      <td>0.055839</td>\n",
       "      <td>-0.004427</td>\n",
       "      <td>0.042396</td>\n",
       "      <td>0.033943</td>\n",
       "      <td>-0.008480</td>\n",
       "      <td>-0.069947</td>\n",
       "      <td>0.015597</td>\n",
       "      <td>0.058927</td>\n",
       "      <td>0.016573</td>\n",
       "      <td>0.067776</td>\n",
       "      <td>0.025650</td>\n",
       "      <td>-0.029733</td>\n",
       "      <td>0.030341</td>\n",
       "      <td>0.024676</td>\n",
       "    </tr>\n",
       "  </tbody>\n",
       "</table>\n",
       "</div>"
      ],
      "text/plain": [
       "                ABBN      ADEN      BAER       CFR      CSGN      GEBN  \\\n",
       "Date                                                                     \n",
       "2017-12-29  0.036254  0.002014  0.030667  0.041625  0.043460  0.003034   \n",
       "2017-11-30 -0.034722 -0.061889 -0.020549 -0.082673  0.057441 -0.054141   \n",
       "2017-10-31  0.085618  0.048538  0.029237  0.038786  0.025758 -0.014291   \n",
       "\n",
       "                GIVN       LHN      LONN      NESN      NOVN       ROG  \\\n",
       "Date                                                                     \n",
       "2017-12-29  0.006236  0.021150  0.023829 -0.005356 -0.021609 -0.006873   \n",
       "2017-11-30  0.004478 -0.046309 -0.030265  0.004163  0.024040  0.073984   \n",
       "2017-10-31  0.055839 -0.004427  0.042396  0.033943 -0.008480 -0.069947   \n",
       "\n",
       "                SCMN      SGSN      SLHN      SREN      UBSG       UHR  \\\n",
       "Date                                                                     \n",
       "2017-12-29 -0.000964  0.043844  0.043846 -0.010357  0.054408  0.102457   \n",
       "2017-11-30  0.029328 -0.013072 -0.049050 -0.017738  0.000589 -0.086221   \n",
       "2017-10-31  0.015597  0.058927  0.016573  0.067776  0.025650 -0.029733   \n",
       "\n",
       "                ZURN       SIK  \n",
       "Date                            \n",
       "2017-12-29 -0.002021  0.018253  \n",
       "2017-11-30 -0.024266  0.028697  \n",
       "2017-10-31  0.030341  0.024676  "
      ]
     },
     "execution_count": 29,
     "metadata": {},
     "output_type": "execute_result"
    }
   ],
   "source": [
    "shsRets = np.log(df / df.shift(-1))\n",
    "shsRets = shsRets['2017-12-31':'2012-06-01']\n",
    "shsRets = shsRets.iloc[:, :-1]  # We exclude the last column (with SMI data)\n",
    "shsRets.head(3)"
   ]
  },
  {
   "cell_type": "markdown",
   "metadata": {},
   "source": [
    "### Calculate Fama-French Coefficients\n"
   ]
  },
  {
   "cell_type": "markdown",
   "metadata": {},
   "source": [
    "In order to run the regression we need to have matching indices. Fama-French's index is 'yyyy-mm' while our dataframe with returns has format 'yyyy-mm-dd'. Since we know that the length of both dataframes is equal, we can simply overwrite the index of one of the dataframes."
   ]
  },
  {
   "cell_type": "code",
   "execution_count": 30,
   "metadata": {
    "collapsed": true
   },
   "outputs": [],
   "source": [
    "# Create matching indices\n",
    "ff.index = shsRets.index"
   ]
  },
  {
   "cell_type": "markdown",
   "metadata": {},
   "source": [
    "We are now in a position to run the multiple linear regression. We will again use the past 60 months. From the Fama French set we just need the first three columns. Column 4 is the risk free rate which we do not use."
   ]
  },
  {
   "cell_type": "code",
   "execution_count": 31,
   "metadata": {
    "collapsed": true
   },
   "outputs": [],
   "source": [
    "# Add constant to matrix for alphas (=intercept)\n",
    "X = sm.add_constant(ff.iloc[:months, :3])"
   ]
  },
  {
   "cell_type": "code",
   "execution_count": 32,
   "metadata": {
    "collapsed": true
   },
   "outputs": [],
   "source": [
    "# Assign ticker to variable\n",
    "tickers = shsRets.columns"
   ]
  },
  {
   "cell_type": "code",
   "execution_count": 33,
   "metadata": {
    "collapsed": true
   },
   "outputs": [],
   "source": [
    "# Create results matrix to paste beta factors\n",
    "res = np.empty(shape=(5, len(tickers)))"
   ]
  },
  {
   "cell_type": "code",
   "execution_count": 34,
   "metadata": {
    "collapsed": true,
    "scrolled": true
   },
   "outputs": [],
   "source": [
    "# Run regression for each ticker\n",
    "for i in range(0, len(tickers)):\n",
    "    \n",
    "    # Select returns of share i\n",
    "    sub = shsRets.iloc[:months, i]\n",
    "    # Run regression\n",
    "    model = sm.OLS(endog=sub, exog=X).fit()\n",
    "    # Paste beta factors to 'res' matrix\n",
    "    res[0:4, i] = model.params\n",
    "    res[4, i] = model.rsquared_adj"
   ]
  },
  {
   "cell_type": "code",
   "execution_count": 35,
   "metadata": {
    "collapsed": true
   },
   "outputs": [],
   "source": [
    "# Format output to dataframe\n",
    "ff3f = pd.DataFrame(data=res, index=['Alpha', 'BetaMkt', 'BetaSMB', 'BetaHML', 'R2_adj'])\n",
    "ff3f.columns = tickers"
   ]
  },
  {
   "cell_type": "markdown",
   "metadata": {},
   "source": [
    "And here are our factors:"
   ]
  },
  {
   "cell_type": "code",
   "execution_count": 36,
   "metadata": {
    "scrolled": true
   },
   "outputs": [
    {
     "data": {
      "text/html": [
       "<div>\n",
       "<style>\n",
       "    .dataframe thead tr:only-child th {\n",
       "        text-align: right;\n",
       "    }\n",
       "\n",
       "    .dataframe thead th {\n",
       "        text-align: left;\n",
       "    }\n",
       "\n",
       "    .dataframe tbody tr th {\n",
       "        vertical-align: top;\n",
       "    }\n",
       "</style>\n",
       "<table border=\"1\" class=\"dataframe\">\n",
       "  <thead>\n",
       "    <tr style=\"text-align: right;\">\n",
       "      <th></th>\n",
       "      <th>ABBN</th>\n",
       "      <th>ADEN</th>\n",
       "      <th>BAER</th>\n",
       "      <th>CFR</th>\n",
       "      <th>CSGN</th>\n",
       "      <th>GEBN</th>\n",
       "      <th>GIVN</th>\n",
       "      <th>LHN</th>\n",
       "      <th>LONN</th>\n",
       "      <th>NESN</th>\n",
       "      <th>NOVN</th>\n",
       "      <th>ROG</th>\n",
       "      <th>SCMN</th>\n",
       "      <th>SGSN</th>\n",
       "      <th>SLHN</th>\n",
       "      <th>SREN</th>\n",
       "      <th>UBSG</th>\n",
       "      <th>UHR</th>\n",
       "      <th>ZURN</th>\n",
       "      <th>SIK</th>\n",
       "    </tr>\n",
       "  </thead>\n",
       "  <tbody>\n",
       "    <tr>\n",
       "      <th>Alpha</th>\n",
       "      <td>-0.001024</td>\n",
       "      <td>-0.001958</td>\n",
       "      <td>0.005042</td>\n",
       "      <td>-0.001920</td>\n",
       "      <td>-0.011471</td>\n",
       "      <td>0.011149</td>\n",
       "      <td>0.013059</td>\n",
       "      <td>-0.011967</td>\n",
       "      <td>0.022699</td>\n",
       "      <td>0.003410</td>\n",
       "      <td>0.003715</td>\n",
       "      <td>0.002671</td>\n",
       "      <td>0.005088</td>\n",
       "      <td>0.000832</td>\n",
       "      <td>0.010098</td>\n",
       "      <td>0.005727</td>\n",
       "      <td>-0.002099</td>\n",
       "      <td>-0.009043</td>\n",
       "      <td>0.002611</td>\n",
       "      <td>0.018353</td>\n",
       "    </tr>\n",
       "    <tr>\n",
       "      <th>BetaMkt</th>\n",
       "      <td>0.702429</td>\n",
       "      <td>0.849073</td>\n",
       "      <td>0.645417</td>\n",
       "      <td>0.915272</td>\n",
       "      <td>0.960092</td>\n",
       "      <td>0.457292</td>\n",
       "      <td>0.500260</td>\n",
       "      <td>1.177953</td>\n",
       "      <td>0.804160</td>\n",
       "      <td>0.505574</td>\n",
       "      <td>0.504861</td>\n",
       "      <td>0.449122</td>\n",
       "      <td>0.340510</td>\n",
       "      <td>0.522754</td>\n",
       "      <td>0.485814</td>\n",
       "      <td>0.255182</td>\n",
       "      <td>0.750693</td>\n",
       "      <td>0.929674</td>\n",
       "      <td>0.415273</td>\n",
       "      <td>0.653631</td>\n",
       "    </tr>\n",
       "    <tr>\n",
       "      <th>BetaSMB</th>\n",
       "      <td>0.293934</td>\n",
       "      <td>0.703270</td>\n",
       "      <td>0.048105</td>\n",
       "      <td>-0.401921</td>\n",
       "      <td>0.369212</td>\n",
       "      <td>-0.524678</td>\n",
       "      <td>-0.699358</td>\n",
       "      <td>0.114389</td>\n",
       "      <td>0.077588</td>\n",
       "      <td>-0.411113</td>\n",
       "      <td>-0.403298</td>\n",
       "      <td>-0.317901</td>\n",
       "      <td>-0.795928</td>\n",
       "      <td>-0.273283</td>\n",
       "      <td>0.912001</td>\n",
       "      <td>-0.577184</td>\n",
       "      <td>0.034930</td>\n",
       "      <td>-0.149058</td>\n",
       "      <td>-0.640206</td>\n",
       "      <td>-0.437464</td>\n",
       "    </tr>\n",
       "    <tr>\n",
       "      <th>BetaHML</th>\n",
       "      <td>0.122074</td>\n",
       "      <td>0.444245</td>\n",
       "      <td>0.628180</td>\n",
       "      <td>0.273728</td>\n",
       "      <td>1.694118</td>\n",
       "      <td>-0.138682</td>\n",
       "      <td>-0.551702</td>\n",
       "      <td>0.353703</td>\n",
       "      <td>-0.210781</td>\n",
       "      <td>-0.582877</td>\n",
       "      <td>-0.378954</td>\n",
       "      <td>-0.306876</td>\n",
       "      <td>-0.204700</td>\n",
       "      <td>-0.438768</td>\n",
       "      <td>0.569452</td>\n",
       "      <td>-0.287086</td>\n",
       "      <td>1.019150</td>\n",
       "      <td>0.288891</td>\n",
       "      <td>0.040195</td>\n",
       "      <td>0.023107</td>\n",
       "    </tr>\n",
       "    <tr>\n",
       "      <th>R2_adj</th>\n",
       "      <td>0.188375</td>\n",
       "      <td>0.339070</td>\n",
       "      <td>0.173252</td>\n",
       "      <td>0.293735</td>\n",
       "      <td>0.354052</td>\n",
       "      <td>0.103053</td>\n",
       "      <td>0.228294</td>\n",
       "      <td>0.434932</td>\n",
       "      <td>0.214570</td>\n",
       "      <td>0.310385</td>\n",
       "      <td>0.165996</td>\n",
       "      <td>0.108955</td>\n",
       "      <td>0.160348</td>\n",
       "      <td>0.102740</td>\n",
       "      <td>0.159920</td>\n",
       "      <td>0.043037</td>\n",
       "      <td>0.289252</td>\n",
       "      <td>0.216216</td>\n",
       "      <td>0.099353</td>\n",
       "      <td>0.171639</td>\n",
       "    </tr>\n",
       "  </tbody>\n",
       "</table>\n",
       "</div>"
      ],
      "text/plain": [
       "             ABBN      ADEN      BAER       CFR      CSGN      GEBN      GIVN  \\\n",
       "Alpha   -0.001024 -0.001958  0.005042 -0.001920 -0.011471  0.011149  0.013059   \n",
       "BetaMkt  0.702429  0.849073  0.645417  0.915272  0.960092  0.457292  0.500260   \n",
       "BetaSMB  0.293934  0.703270  0.048105 -0.401921  0.369212 -0.524678 -0.699358   \n",
       "BetaHML  0.122074  0.444245  0.628180  0.273728  1.694118 -0.138682 -0.551702   \n",
       "R2_adj   0.188375  0.339070  0.173252  0.293735  0.354052  0.103053  0.228294   \n",
       "\n",
       "              LHN      LONN      NESN      NOVN       ROG      SCMN      SGSN  \\\n",
       "Alpha   -0.011967  0.022699  0.003410  0.003715  0.002671  0.005088  0.000832   \n",
       "BetaMkt  1.177953  0.804160  0.505574  0.504861  0.449122  0.340510  0.522754   \n",
       "BetaSMB  0.114389  0.077588 -0.411113 -0.403298 -0.317901 -0.795928 -0.273283   \n",
       "BetaHML  0.353703 -0.210781 -0.582877 -0.378954 -0.306876 -0.204700 -0.438768   \n",
       "R2_adj   0.434932  0.214570  0.310385  0.165996  0.108955  0.160348  0.102740   \n",
       "\n",
       "             SLHN      SREN      UBSG       UHR      ZURN       SIK  \n",
       "Alpha    0.010098  0.005727 -0.002099 -0.009043  0.002611  0.018353  \n",
       "BetaMkt  0.485814  0.255182  0.750693  0.929674  0.415273  0.653631  \n",
       "BetaSMB  0.912001 -0.577184  0.034930 -0.149058 -0.640206 -0.437464  \n",
       "BetaHML  0.569452 -0.287086  1.019150  0.288891  0.040195  0.023107  \n",
       "R2_adj   0.159920  0.043037  0.289252  0.216216  0.099353  0.171639  "
      ]
     },
     "execution_count": 36,
     "metadata": {},
     "output_type": "execute_result"
    }
   ],
   "source": [
    "ff3f"
   ]
  },
  {
   "cell_type": "code",
   "execution_count": 37,
   "metadata": {},
   "outputs": [
    {
     "name": "stdout",
     "output_type": "stream",
     "text": [
      "           Alpha    BetaMkt    BetaSMB    BetaHML     R2_adj\n",
      "count  20.000000  20.000000  20.000000  20.000000  20.000000\n",
      "mean    0.003249   0.641252  -0.153898   0.117821   0.207859\n",
      "std     0.008978   0.239518   0.465744   0.567091   0.101346\n",
      "min    -0.011967   0.255182  -0.795928  -0.582877   0.043037\n",
      "25%    -0.001929   0.478684  -0.459267  -0.292033   0.147179\n",
      "50%     0.003040   0.584086  -0.295592   0.031651   0.180814\n",
      "75%     0.006820   0.815389   0.086788   0.376339   0.290373\n",
      "max     0.022699   1.177953   0.912001   1.694118   0.434932\n"
     ]
    }
   ],
   "source": [
    "# Transpose matrix (.T) and display stats summary\n",
    "print(ff3f.T.describe())"
   ]
  },
  {
   "cell_type": "markdown",
   "metadata": {},
   "source": [
    "### Hedge a Portolio\n",
    "\n",
    "Now that we have all the factors, let's assume we want to build a portfolio with all 20 SMI stocks that maximizes the Sharpe ratio (SR). As a further condition we want to limit our exposure to the SMB factor to, let's say, $\\beta_p^{SMB} = 0$. How would we allocate our investment under these conditions? In mathematical terms we have the following optimization problem:\n",
    "\n",
    "$$\\begin{equation}\n",
    "\\max_{w_i} SR = \\frac{\\mathbb{E}[r_p] - r_f}{\\sigma_p} \\qquad s.t. \\qquad \n",
    "\\begin{cases}\n",
    "\\sum w_i &= 1 \\\\\n",
    "\\beta_p^{SMB} &= 0\n",
    "\\end{cases}\n",
    "\\end{equation}$$\n",
    "\n",
    "Usually, to calculate the expected return $\\mathbb{E}[r_p]$, historical returns are taken. For our case here, we will take the expected returns given by our Fama-French 3 Factor model (denoted $\\mathbf{R_{ff}}$). The portfolio variance $\\sigma_p$ however, we estimate using historical data. Alternatively one could think of taking the SMI volatility index value as proxy. But this is only approximately true because we will not have the same weights per stock as the SMI and this thus might be questionable. With that we have\n",
    "\n",
    "$$\\begin{equation}\n",
    "\\max_{w_i} SR = \\frac{\\mathbf{w}^T \\left(r_f + \\mathbf{\\alpha} + \\mathbf{\\beta}^{M} (r_{M} - r_{f}) + \\mathbf{\\beta}^{SMB} SMB + \\mathbf{\\beta}^{HML} HML \\right) - r_f}{\\mathbf{w}^T \\mathbf{\\Sigma}\\mathbf{w}} \\qquad s.t. \\qquad \n",
    "\\begin{cases}\n",
    "\\sum w_i &= 1 \\\\\n",
    "\\beta_p^{SMB} &= 0\n",
    "\\end{cases}\n",
    "\\end{equation}$$\n",
    "\n"
   ]
  },
  {
   "cell_type": "markdown",
   "metadata": {},
   "source": [
    "Python can solve this problem numerically. We first set the stage by defining a auxiliary function `pfStats` that returns the expected portfolio return, volatility and Sharpe ratio given a vector of weights. Note that the function also makes use of other data like monthly returns and the riskfree rate as previously defined (which is set to 0) but only weights are a function input value. This is necessary for the optimization function."
   ]
  },
  {
   "cell_type": "code",
   "execution_count": 38,
   "metadata": {
    "collapsed": true
   },
   "outputs": [],
   "source": [
    "# Define rf and (equally spread) start weights\n",
    "rf = 0\n",
    "wghts = np.repeat(1. / len(tickers), len(tickers))\n",
    "\n",
    "# Expected stock returns based on ff3f model\n",
    "expShsRets = rf + ff3f.T.Alpha + \\\n",
    "    ff3f.T.BetaMkt * ff['Mkt-RF'].mean() + \\\n",
    "    ff3f.T.BetaSMB * ff.SMB.mean() + \\\n",
    "    ff3f.T.BetaHML * ff.HML.mean()"
   ]
  },
  {
   "cell_type": "code",
   "execution_count": 39,
   "metadata": {
    "collapsed": true
   },
   "outputs": [],
   "source": [
    "def pfStats(weights):\n",
    "    '''Returns basic measures for a portfolio\n",
    "    \n",
    "    Parameters\n",
    "    ==========\n",
    "    weights : array-like\n",
    "        weights for different securities in portfolio\n",
    "    \n",
    "    Returns\n",
    "    =======\n",
    "    expPfRet : float\n",
    "        weighted, annualized expected portfolio return based on ff3f model\n",
    "    pfVol : float\n",
    "        historical annualized portfolio volatility\n",
    "    SR : float\n",
    "        portfolio Sharpe ratio for given riskfree rate\n",
    "    '''\n",
    "    \n",
    "    expPfRet = np.sum(weights * expShsRets) * 12\n",
    "    pfVol    = np.sqrt(np.dot(weights.T, np.dot(shsRets.cov() * 12, weights)))\n",
    "    SR       = (expPfRet - rf) / pfVol \n",
    "    \n",
    "    return np.array([expPfRet, pfVol, SR])"
   ]
  },
  {
   "cell_type": "markdown",
   "metadata": {},
   "source": [
    "Python's scipy package has a sublibrary for constrained optimization problems. We will use the minimize function and minimize the negative value of the Sharpe ratio (which is obviously equal to maximizing the SR)"
   ]
  },
  {
   "cell_type": "code",
   "execution_count": 40,
   "metadata": {
    "collapsed": true
   },
   "outputs": [],
   "source": [
    "import scipy.optimize as sco\n",
    "\n",
    "def minSR(wghts):\n",
    "    return -pfStats(wghts)[2]"
   ]
  },
  {
   "cell_type": "markdown",
   "metadata": {},
   "source": [
    "Our constraints are as stated above: $\\sum w_i = 1$, $\\beta_P^{SMB} = 0$. Additionally we set bounds for the weights such that short/long position are allowed but only up to 100% per share ($w_i \\in [-1, 1]\\; \\forall i \\in [1, 2, \\ldots, n]$)."
   ]
  },
  {
   "cell_type": "code",
   "execution_count": 41,
   "metadata": {
    "collapsed": true,
    "scrolled": false
   },
   "outputs": [],
   "source": [
    "# Constraints and bounds\n",
    "constr = [{'type': 'eq', 'fun': lambda x: np.sum(x) - 1},\n",
    "          {'type': 'eq', 'fun': lambda x: np.sum(x * ff3f.T.BetaSMB) - 0}]\n",
    "bnds   = tuple((-1,1) for x in range(len(tickers)))"
   ]
  },
  {
   "cell_type": "code",
   "execution_count": 42,
   "metadata": {
    "collapsed": true
   },
   "outputs": [],
   "source": [
    "# Minimization function\n",
    "optPf = sco.minimize(minSR, x0=wghts, method='SLSQP', bounds=bnds, constraints=constr)"
   ]
  },
  {
   "cell_type": "code",
   "execution_count": 43,
   "metadata": {},
   "outputs": [
    {
     "name": "stdout",
     "output_type": "stream",
     "text": [
      "Sum of weights:   1.0\n",
      "Beta SMB factor:  7.930878176409806e-12\n"
     ]
    }
   ],
   "source": [
    "# Check if conditions are actually met\n",
    "print('Sum of weights:  ', np.sum(optPf['x']))\n",
    "print('Beta SMB factor: ', np.sum(optPf['x'] * ff3f.T.BetaSMB))"
   ]
  },
  {
   "cell_type": "code",
   "execution_count": 44,
   "metadata": {
    "scrolled": false
   },
   "outputs": [
    {
     "name": "stdout",
     "output_type": "stream",
     "text": [
      "Portfolio return:      0.669782057573\n",
      "Portfolio volatility:  0.202898424315\n",
      "Portfolio SR:          3.30107076895 \n",
      "\n",
      "      optimalWghts\n",
      "ABBN     -0.051376\n",
      "ADEN     -0.255474\n",
      "BAER      0.099279\n",
      "CFR       0.263555\n",
      "CSGN     -0.191818\n",
      "GEBN      0.075920\n",
      "GIVN      0.609008\n",
      "LHN      -0.471114\n",
      "LONN      0.533253\n",
      "NESN      0.232637\n",
      "NOVN      0.395623\n",
      "ROG      -0.690952\n",
      "SCMN     -0.121562\n",
      "SGSN     -0.269587\n",
      "SLHN      0.755824\n",
      "SREN     -0.055901\n",
      "UBSG      0.076478\n",
      "UHR      -0.282085\n",
      "ZURN     -0.474429\n",
      "SIK       0.822721\n"
     ]
    }
   ],
   "source": [
    "# Calculate portfolio stats given optimal weights\n",
    "rsltsOptPf = pfStats(optPf['x'])\n",
    "\n",
    "# Format weights into dataframe with Tickers as heading\n",
    "optWghts = pd.DataFrame(data=optPf['x'], index=tickers)\n",
    "optWghts.columns = ['optimalWghts']\n",
    "\n",
    "# Print results\n",
    "print('Portfolio return:     ', str(rsltsOptPf[0]))\n",
    "print('Portfolio volatility: ', str(rsltsOptPf[1]))\n",
    "print('Portfolio SR:         ', str(rsltsOptPf[2]), '\\n')\n",
    "print(str(optWghts))"
   ]
  },
  {
   "cell_type": "markdown",
   "metadata": {
    "collapsed": true
   },
   "source": [
    "# Further Ressources\n",
    "\n",
    "\n",
    "In writing this notebook, many ressources were consulted. For internet ressources the links are provided within the textflow above and will therefore not be listed again. Beyond these links, the following ressources were consulted and are recommended as further reading on the discussed topics:\n",
    "\n",
    "* Blume, Marshall E., 1971, On the Assessment of Risk, *The Journal of Finance* 26, 1-10.\n",
    "* Fama, Eugene F, and Kenneth R French, 1993, Common risk factors in the returns on stocks and bonds, *Journal of Financial Economics* 33, 3–56.\n",
    "* Hilpisch, Yves, 2015, Python for Finance (O'Reilly Media, Sebastopol, CA).\n",
    "* James, Gareth, Daniela Witten, Trevor Hastie, and Robert Tibshirani, 2013, *An Introduction to Statistical Learning: With Applications in R* (Springer Science & Business Media, New York, NY).\n",
    "* Müller, Andreas C., and Sarah Guido, 2017, *Introduction to Machine Learning with Python* (O’Reilly Media, Sebastopol, CA).\n",
    "* Pinto, Jerald E., Elaine Henry, Thomas R. Robinson, and John D. Stowe, 2016, *Equity Asset Valuation* (MIT Press, Cambridge, MA).\n",
    "* Ross, Stephen A., et al., 1973, Return, risk and arbitrage (Rodney L. White Center for Financial Research, The Wharton School, University of Pennyslvania).\n",
    "*   Sheppard, Kevin, 2017, Introduction to Python for Econometrics, Statistics and Data Analysis from Website https://www.kevinsheppard.com/images/b/b3/Python_introduction-2016.pdf, 07/07/2017.\n",
    "* Wooldridge, Jeffrey M, 2015, *Introductory Econometrics: A modern approach* (Cengage Learning, Boston, MA).\n",
    "\n"
   ]
  }
 ],
 "metadata": {
  "kernelspec": {
   "display_name": "Python 3",
   "language": "python",
   "name": "python3"
  },
  "language_info": {
   "codemirror_mode": {
    "name": "ipython",
    "version": 3
   },
   "file_extension": ".py",
   "mimetype": "text/x-python",
   "name": "python",
   "nbconvert_exporter": "python",
   "pygments_lexer": "ipython3",
   "version": "3.7.4"
  }
 },
 "nbformat": 4,
 "nbformat_minor": 2
}
